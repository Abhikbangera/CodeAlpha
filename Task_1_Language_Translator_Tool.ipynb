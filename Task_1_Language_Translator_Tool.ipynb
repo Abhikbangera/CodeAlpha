{
  "nbformat": 4,
  "nbformat_minor": 0,
  "metadata": {
    "colab": {
      "provenance": []
    },
    "kernelspec": {
      "name": "python3",
      "display_name": "Python 3"
    },
    "language_info": {
      "name": "python"
    },
    "widgets": {
      "application/vnd.jupyter.widget-state+json": {
        "b3c5e477e5ea4888a36216f009d01c09": {
          "model_module": "@jupyter-widgets/controls",
          "model_name": "HBoxModel",
          "model_module_version": "1.5.0",
          "state": {
            "_dom_classes": [],
            "_model_module": "@jupyter-widgets/controls",
            "_model_module_version": "1.5.0",
            "_model_name": "HBoxModel",
            "_view_count": null,
            "_view_module": "@jupyter-widgets/controls",
            "_view_module_version": "1.5.0",
            "_view_name": "HBoxView",
            "box_style": "",
            "children": [
              "IPY_MODEL_4bc3a008b68249eb8ac45628ebc82dff",
              "IPY_MODEL_3131fbb169904d50a7931206b7763fd5",
              "IPY_MODEL_649a02b6e9a146f798ac1179b2c1fa1a"
            ],
            "layout": "IPY_MODEL_88cf1543171b4ebeb90cd0652999796b"
          }
        },
        "4bc3a008b68249eb8ac45628ebc82dff": {
          "model_module": "@jupyter-widgets/controls",
          "model_name": "HTMLModel",
          "model_module_version": "1.5.0",
          "state": {
            "_dom_classes": [],
            "_model_module": "@jupyter-widgets/controls",
            "_model_module_version": "1.5.0",
            "_model_name": "HTMLModel",
            "_view_count": null,
            "_view_module": "@jupyter-widgets/controls",
            "_view_module_version": "1.5.0",
            "_view_name": "HTMLView",
            "description": "",
            "description_tooltip": null,
            "layout": "IPY_MODEL_a63bc3f31ae94dac8a218a1d12d2d996",
            "placeholder": "​",
            "style": "IPY_MODEL_477459a7d461482b807cbbc4c413e7c6",
            "value": "100%"
          }
        },
        "3131fbb169904d50a7931206b7763fd5": {
          "model_module": "@jupyter-widgets/controls",
          "model_name": "FloatProgressModel",
          "model_module_version": "1.5.0",
          "state": {
            "_dom_classes": [],
            "_model_module": "@jupyter-widgets/controls",
            "_model_module_version": "1.5.0",
            "_model_name": "FloatProgressModel",
            "_view_count": null,
            "_view_module": "@jupyter-widgets/controls",
            "_view_module_version": "1.5.0",
            "_view_name": "ProgressView",
            "bar_style": "success",
            "description": "",
            "description_tooltip": null,
            "layout": "IPY_MODEL_3d602b7e24c6483385306dfdd85f0d53",
            "max": 480,
            "min": 0,
            "orientation": "horizontal",
            "style": "IPY_MODEL_632b2982eb4148899e05ea3ef5d12dac",
            "value": 480
          }
        },
        "649a02b6e9a146f798ac1179b2c1fa1a": {
          "model_module": "@jupyter-widgets/controls",
          "model_name": "HTMLModel",
          "model_module_version": "1.5.0",
          "state": {
            "_dom_classes": [],
            "_model_module": "@jupyter-widgets/controls",
            "_model_module_version": "1.5.0",
            "_model_name": "HTMLModel",
            "_view_count": null,
            "_view_module": "@jupyter-widgets/controls",
            "_view_module_version": "1.5.0",
            "_view_name": "HTMLView",
            "description": "",
            "description_tooltip": null,
            "layout": "IPY_MODEL_b372ee1f4fcc4ab487e55ef2524b2036",
            "placeholder": "​",
            "style": "IPY_MODEL_9d167a32d9954174b4042729a7601e40",
            "value": " 480/480 [00:33&lt;00:00, 16.62it/s]"
          }
        },
        "88cf1543171b4ebeb90cd0652999796b": {
          "model_module": "@jupyter-widgets/base",
          "model_name": "LayoutModel",
          "model_module_version": "1.2.0",
          "state": {
            "_model_module": "@jupyter-widgets/base",
            "_model_module_version": "1.2.0",
            "_model_name": "LayoutModel",
            "_view_count": null,
            "_view_module": "@jupyter-widgets/base",
            "_view_module_version": "1.2.0",
            "_view_name": "LayoutView",
            "align_content": null,
            "align_items": null,
            "align_self": null,
            "border": null,
            "bottom": null,
            "display": null,
            "flex": null,
            "flex_flow": null,
            "grid_area": null,
            "grid_auto_columns": null,
            "grid_auto_flow": null,
            "grid_auto_rows": null,
            "grid_column": null,
            "grid_gap": null,
            "grid_row": null,
            "grid_template_areas": null,
            "grid_template_columns": null,
            "grid_template_rows": null,
            "height": null,
            "justify_content": null,
            "justify_items": null,
            "left": null,
            "margin": null,
            "max_height": null,
            "max_width": null,
            "min_height": null,
            "min_width": null,
            "object_fit": null,
            "object_position": null,
            "order": null,
            "overflow": null,
            "overflow_x": null,
            "overflow_y": null,
            "padding": null,
            "right": null,
            "top": null,
            "visibility": null,
            "width": null
          }
        },
        "a63bc3f31ae94dac8a218a1d12d2d996": {
          "model_module": "@jupyter-widgets/base",
          "model_name": "LayoutModel",
          "model_module_version": "1.2.0",
          "state": {
            "_model_module": "@jupyter-widgets/base",
            "_model_module_version": "1.2.0",
            "_model_name": "LayoutModel",
            "_view_count": null,
            "_view_module": "@jupyter-widgets/base",
            "_view_module_version": "1.2.0",
            "_view_name": "LayoutView",
            "align_content": null,
            "align_items": null,
            "align_self": null,
            "border": null,
            "bottom": null,
            "display": null,
            "flex": null,
            "flex_flow": null,
            "grid_area": null,
            "grid_auto_columns": null,
            "grid_auto_flow": null,
            "grid_auto_rows": null,
            "grid_column": null,
            "grid_gap": null,
            "grid_row": null,
            "grid_template_areas": null,
            "grid_template_columns": null,
            "grid_template_rows": null,
            "height": null,
            "justify_content": null,
            "justify_items": null,
            "left": null,
            "margin": null,
            "max_height": null,
            "max_width": null,
            "min_height": null,
            "min_width": null,
            "object_fit": null,
            "object_position": null,
            "order": null,
            "overflow": null,
            "overflow_x": null,
            "overflow_y": null,
            "padding": null,
            "right": null,
            "top": null,
            "visibility": null,
            "width": null
          }
        },
        "477459a7d461482b807cbbc4c413e7c6": {
          "model_module": "@jupyter-widgets/controls",
          "model_name": "DescriptionStyleModel",
          "model_module_version": "1.5.0",
          "state": {
            "_model_module": "@jupyter-widgets/controls",
            "_model_module_version": "1.5.0",
            "_model_name": "DescriptionStyleModel",
            "_view_count": null,
            "_view_module": "@jupyter-widgets/base",
            "_view_module_version": "1.2.0",
            "_view_name": "StyleView",
            "description_width": ""
          }
        },
        "3d602b7e24c6483385306dfdd85f0d53": {
          "model_module": "@jupyter-widgets/base",
          "model_name": "LayoutModel",
          "model_module_version": "1.2.0",
          "state": {
            "_model_module": "@jupyter-widgets/base",
            "_model_module_version": "1.2.0",
            "_model_name": "LayoutModel",
            "_view_count": null,
            "_view_module": "@jupyter-widgets/base",
            "_view_module_version": "1.2.0",
            "_view_name": "LayoutView",
            "align_content": null,
            "align_items": null,
            "align_self": null,
            "border": null,
            "bottom": null,
            "display": null,
            "flex": null,
            "flex_flow": null,
            "grid_area": null,
            "grid_auto_columns": null,
            "grid_auto_flow": null,
            "grid_auto_rows": null,
            "grid_column": null,
            "grid_gap": null,
            "grid_row": null,
            "grid_template_areas": null,
            "grid_template_columns": null,
            "grid_template_rows": null,
            "height": null,
            "justify_content": null,
            "justify_items": null,
            "left": null,
            "margin": null,
            "max_height": null,
            "max_width": null,
            "min_height": null,
            "min_width": null,
            "object_fit": null,
            "object_position": null,
            "order": null,
            "overflow": null,
            "overflow_x": null,
            "overflow_y": null,
            "padding": null,
            "right": null,
            "top": null,
            "visibility": null,
            "width": null
          }
        },
        "632b2982eb4148899e05ea3ef5d12dac": {
          "model_module": "@jupyter-widgets/controls",
          "model_name": "ProgressStyleModel",
          "model_module_version": "1.5.0",
          "state": {
            "_model_module": "@jupyter-widgets/controls",
            "_model_module_version": "1.5.0",
            "_model_name": "ProgressStyleModel",
            "_view_count": null,
            "_view_module": "@jupyter-widgets/base",
            "_view_module_version": "1.2.0",
            "_view_name": "StyleView",
            "bar_color": null,
            "description_width": ""
          }
        },
        "b372ee1f4fcc4ab487e55ef2524b2036": {
          "model_module": "@jupyter-widgets/base",
          "model_name": "LayoutModel",
          "model_module_version": "1.2.0",
          "state": {
            "_model_module": "@jupyter-widgets/base",
            "_model_module_version": "1.2.0",
            "_model_name": "LayoutModel",
            "_view_count": null,
            "_view_module": "@jupyter-widgets/base",
            "_view_module_version": "1.2.0",
            "_view_name": "LayoutView",
            "align_content": null,
            "align_items": null,
            "align_self": null,
            "border": null,
            "bottom": null,
            "display": null,
            "flex": null,
            "flex_flow": null,
            "grid_area": null,
            "grid_auto_columns": null,
            "grid_auto_flow": null,
            "grid_auto_rows": null,
            "grid_column": null,
            "grid_gap": null,
            "grid_row": null,
            "grid_template_areas": null,
            "grid_template_columns": null,
            "grid_template_rows": null,
            "height": null,
            "justify_content": null,
            "justify_items": null,
            "left": null,
            "margin": null,
            "max_height": null,
            "max_width": null,
            "min_height": null,
            "min_width": null,
            "object_fit": null,
            "object_position": null,
            "order": null,
            "overflow": null,
            "overflow_x": null,
            "overflow_y": null,
            "padding": null,
            "right": null,
            "top": null,
            "visibility": null,
            "width": null
          }
        },
        "9d167a32d9954174b4042729a7601e40": {
          "model_module": "@jupyter-widgets/controls",
          "model_name": "DescriptionStyleModel",
          "model_module_version": "1.5.0",
          "state": {
            "_model_module": "@jupyter-widgets/controls",
            "_model_module_version": "1.5.0",
            "_model_name": "DescriptionStyleModel",
            "_view_count": null,
            "_view_module": "@jupyter-widgets/base",
            "_view_module_version": "1.2.0",
            "_view_name": "StyleView",
            "description_width": ""
          }
        }
      }
    }
  },
  "cells": [
    {
      "cell_type": "code",
      "execution_count": 1,
      "metadata": {
        "colab": {
          "base_uri": "https://localhost:8080/"
        },
        "id": "P4buQkeu2lIP",
        "outputId": "77f6adea-94ba-4230-9eba-dc6fffd967bc"
      },
      "outputs": [
        {
          "output_type": "stream",
          "name": "stdout",
          "text": [
            "Collecting googletrans==3.1.0a0\n",
            "  Downloading googletrans-3.1.0a0.tar.gz (19 kB)\n",
            "  Preparing metadata (setup.py) ... \u001b[?25l\u001b[?25hdone\n",
            "Collecting httpx==0.13.3 (from googletrans==3.1.0a0)\n",
            "  Downloading httpx-0.13.3-py3-none-any.whl.metadata (25 kB)\n",
            "Requirement already satisfied: certifi in /usr/local/lib/python3.10/dist-packages (from httpx==0.13.3->googletrans==3.1.0a0) (2024.12.14)\n",
            "Collecting hstspreload (from httpx==0.13.3->googletrans==3.1.0a0)\n",
            "  Downloading hstspreload-2025.1.1-py3-none-any.whl.metadata (2.1 kB)\n",
            "Requirement already satisfied: sniffio in /usr/local/lib/python3.10/dist-packages (from httpx==0.13.3->googletrans==3.1.0a0) (1.3.1)\n",
            "Collecting chardet==3.* (from httpx==0.13.3->googletrans==3.1.0a0)\n",
            "  Downloading chardet-3.0.4-py2.py3-none-any.whl.metadata (3.2 kB)\n",
            "Collecting idna==2.* (from httpx==0.13.3->googletrans==3.1.0a0)\n",
            "  Downloading idna-2.10-py2.py3-none-any.whl.metadata (9.1 kB)\n",
            "Collecting rfc3986<2,>=1.3 (from httpx==0.13.3->googletrans==3.1.0a0)\n",
            "  Downloading rfc3986-1.5.0-py2.py3-none-any.whl.metadata (6.5 kB)\n",
            "Collecting httpcore==0.9.* (from httpx==0.13.3->googletrans==3.1.0a0)\n",
            "  Downloading httpcore-0.9.1-py3-none-any.whl.metadata (4.6 kB)\n",
            "Collecting h11<0.10,>=0.8 (from httpcore==0.9.*->httpx==0.13.3->googletrans==3.1.0a0)\n",
            "  Downloading h11-0.9.0-py2.py3-none-any.whl.metadata (8.1 kB)\n",
            "Collecting h2==3.* (from httpcore==0.9.*->httpx==0.13.3->googletrans==3.1.0a0)\n",
            "  Downloading h2-3.2.0-py2.py3-none-any.whl.metadata (32 kB)\n",
            "Collecting hyperframe<6,>=5.2.0 (from h2==3.*->httpcore==0.9.*->httpx==0.13.3->googletrans==3.1.0a0)\n",
            "  Downloading hyperframe-5.2.0-py2.py3-none-any.whl.metadata (7.2 kB)\n",
            "Collecting hpack<4,>=3.0 (from h2==3.*->httpcore==0.9.*->httpx==0.13.3->googletrans==3.1.0a0)\n",
            "  Downloading hpack-3.0.0-py2.py3-none-any.whl.metadata (7.0 kB)\n",
            "Downloading httpx-0.13.3-py3-none-any.whl (55 kB)\n",
            "\u001b[2K   \u001b[90m━━━━━━━━━━━━━━━━━━━━━━━━━━━━━━━━━━━━━━━━\u001b[0m \u001b[32m55.1/55.1 kB\u001b[0m \u001b[31m3.8 MB/s\u001b[0m eta \u001b[36m0:00:00\u001b[0m\n",
            "\u001b[?25hDownloading chardet-3.0.4-py2.py3-none-any.whl (133 kB)\n",
            "\u001b[2K   \u001b[90m━━━━━━━━━━━━━━━━━━━━━━━━━━━━━━━━━━━━━━━━\u001b[0m \u001b[32m133.4/133.4 kB\u001b[0m \u001b[31m10.5 MB/s\u001b[0m eta \u001b[36m0:00:00\u001b[0m\n",
            "\u001b[?25hDownloading httpcore-0.9.1-py3-none-any.whl (42 kB)\n",
            "\u001b[2K   \u001b[90m━━━━━━━━━━━━━━━━━━━━━━━━━━━━━━━━━━━━━━━━\u001b[0m \u001b[32m42.6/42.6 kB\u001b[0m \u001b[31m3.1 MB/s\u001b[0m eta \u001b[36m0:00:00\u001b[0m\n",
            "\u001b[?25hDownloading idna-2.10-py2.py3-none-any.whl (58 kB)\n",
            "\u001b[2K   \u001b[90m━━━━━━━━━━━━━━━━━━━━━━━━━━━━━━━━━━━━━━━━\u001b[0m \u001b[32m58.8/58.8 kB\u001b[0m \u001b[31m4.0 MB/s\u001b[0m eta \u001b[36m0:00:00\u001b[0m\n",
            "\u001b[?25hDownloading h2-3.2.0-py2.py3-none-any.whl (65 kB)\n",
            "\u001b[2K   \u001b[90m━━━━━━━━━━━━━━━━━━━━━━━━━━━━━━━━━━━━━━━━\u001b[0m \u001b[32m65.0/65.0 kB\u001b[0m \u001b[31m5.0 MB/s\u001b[0m eta \u001b[36m0:00:00\u001b[0m\n",
            "\u001b[?25hDownloading rfc3986-1.5.0-py2.py3-none-any.whl (31 kB)\n",
            "Downloading hstspreload-2025.1.1-py3-none-any.whl (1.3 MB)\n",
            "\u001b[2K   \u001b[90m━━━━━━━━━━━━━━━━━━━━━━━━━━━━━━━━━━━━━━━━\u001b[0m \u001b[32m1.3/1.3 MB\u001b[0m \u001b[31m44.0 MB/s\u001b[0m eta \u001b[36m0:00:00\u001b[0m\n",
            "\u001b[?25hDownloading h11-0.9.0-py2.py3-none-any.whl (53 kB)\n",
            "\u001b[2K   \u001b[90m━━━━━━━━━━━━━━━━━━━━━━━━━━━━━━━━━━━━━━━━\u001b[0m \u001b[32m53.6/53.6 kB\u001b[0m \u001b[31m3.9 MB/s\u001b[0m eta \u001b[36m0:00:00\u001b[0m\n",
            "\u001b[?25hDownloading hpack-3.0.0-py2.py3-none-any.whl (38 kB)\n",
            "Downloading hyperframe-5.2.0-py2.py3-none-any.whl (12 kB)\n",
            "Building wheels for collected packages: googletrans\n",
            "  Building wheel for googletrans (setup.py) ... \u001b[?25l\u001b[?25hdone\n",
            "  Created wheel for googletrans: filename=googletrans-3.1.0a0-py3-none-any.whl size=16352 sha256=643f2fd1e326328b0b01ad035ac68fe87b834f76a94d23e4d9270e4529c28878\n",
            "  Stored in directory: /root/.cache/pip/wheels/50/5d/3c/8477d0af4ca2b8b1308812c09f1930863caeebc762fe265a95\n",
            "Successfully built googletrans\n",
            "Installing collected packages: rfc3986, hyperframe, hpack, h11, chardet, idna, hstspreload, h2, httpcore, httpx, googletrans\n",
            "  Attempting uninstall: h11\n",
            "    Found existing installation: h11 0.14.0\n",
            "    Uninstalling h11-0.14.0:\n",
            "      Successfully uninstalled h11-0.14.0\n",
            "  Attempting uninstall: chardet\n",
            "    Found existing installation: chardet 5.2.0\n",
            "    Uninstalling chardet-5.2.0:\n",
            "      Successfully uninstalled chardet-5.2.0\n",
            "  Attempting uninstall: idna\n",
            "    Found existing installation: idna 3.10\n",
            "    Uninstalling idna-3.10:\n",
            "      Successfully uninstalled idna-3.10\n",
            "  Attempting uninstall: httpcore\n",
            "    Found existing installation: httpcore 1.0.7\n",
            "    Uninstalling httpcore-1.0.7:\n",
            "      Successfully uninstalled httpcore-1.0.7\n",
            "  Attempting uninstall: httpx\n",
            "    Found existing installation: httpx 0.28.1\n",
            "    Uninstalling httpx-0.28.1:\n",
            "      Successfully uninstalled httpx-0.28.1\n",
            "\u001b[31mERROR: pip's dependency resolver does not currently take into account all the packages that are installed. This behaviour is the source of the following dependency conflicts.\n",
            "langsmith 0.2.3 requires httpx<1,>=0.23.0, but you have httpx 0.13.3 which is incompatible.\n",
            "openai 1.57.4 requires httpx<1,>=0.23.0, but you have httpx 0.13.3 which is incompatible.\u001b[0m\u001b[31m\n",
            "\u001b[0mSuccessfully installed chardet-3.0.4 googletrans-3.1.0a0 h11-0.9.0 h2-3.2.0 hpack-3.0.0 hstspreload-2025.1.1 httpcore-0.9.1 httpx-0.13.3 hyperframe-5.2.0 idna-2.10 rfc3986-1.5.0\n"
          ]
        }
      ],
      "source": [
        "!pip install googletrans==3.1.0a0\n"
      ]
    },
    {
      "cell_type": "code",
      "source": [
        "import googletrans\n",
        "from googletrans import Translator"
      ],
      "metadata": {
        "id": "gz6IK6uQIeYl"
      },
      "execution_count": 2,
      "outputs": []
    },
    {
      "cell_type": "code",
      "source": [
        "translator = Translator()\n",
        "\n",
        "translated=translator.translate(text='esta bien')\n",
        "\n",
        "print(translated)"
      ],
      "metadata": {
        "colab": {
          "base_uri": "https://localhost:8080/"
        },
        "id": "m_EwD1-eIktB",
        "outputId": "fd186156-609b-4d0a-9dbb-59c2dc19514f"
      },
      "execution_count": 3,
      "outputs": [
        {
          "output_type": "stream",
          "name": "stdout",
          "text": [
            "Translated(src=es, dest=en, text=Alright, pronunciation=Alright, extra_data=\"{'translat...\")\n"
          ]
        }
      ]
    },
    {
      "cell_type": "code",
      "source": [
        "print(googletrans.LANGUAGES)"
      ],
      "metadata": {
        "colab": {
          "base_uri": "https://localhost:8080/"
        },
        "id": "s8qIHTtuOZKv",
        "outputId": "facb7a1a-5863-4dd9-aae0-97370b7ccc31"
      },
      "execution_count": 4,
      "outputs": [
        {
          "output_type": "stream",
          "name": "stdout",
          "text": [
            "{'af': 'afrikaans', 'sq': 'albanian', 'am': 'amharic', 'ar': 'arabic', 'hy': 'armenian', 'az': 'azerbaijani', 'eu': 'basque', 'be': 'belarusian', 'bn': 'bengali', 'bs': 'bosnian', 'bg': 'bulgarian', 'ca': 'catalan', 'ceb': 'cebuano', 'ny': 'chichewa', 'zh-cn': 'chinese (simplified)', 'zh-tw': 'chinese (traditional)', 'co': 'corsican', 'hr': 'croatian', 'cs': 'czech', 'da': 'danish', 'nl': 'dutch', 'en': 'english', 'eo': 'esperanto', 'et': 'estonian', 'tl': 'filipino', 'fi': 'finnish', 'fr': 'french', 'fy': 'frisian', 'gl': 'galician', 'ka': 'georgian', 'de': 'german', 'el': 'greek', 'gu': 'gujarati', 'ht': 'haitian creole', 'ha': 'hausa', 'haw': 'hawaiian', 'iw': 'hebrew', 'he': 'hebrew', 'hi': 'hindi', 'hmn': 'hmong', 'hu': 'hungarian', 'is': 'icelandic', 'ig': 'igbo', 'id': 'indonesian', 'ga': 'irish', 'it': 'italian', 'ja': 'japanese', 'jw': 'javanese', 'kn': 'kannada', 'kk': 'kazakh', 'km': 'khmer', 'ko': 'korean', 'ku': 'kurdish (kurmanji)', 'ky': 'kyrgyz', 'lo': 'lao', 'la': 'latin', 'lv': 'latvian', 'lt': 'lithuanian', 'lb': 'luxembourgish', 'mk': 'macedonian', 'mg': 'malagasy', 'ms': 'malay', 'ml': 'malayalam', 'mt': 'maltese', 'mi': 'maori', 'mr': 'marathi', 'mn': 'mongolian', 'my': 'myanmar (burmese)', 'ne': 'nepali', 'no': 'norwegian', 'or': 'odia', 'ps': 'pashto', 'fa': 'persian', 'pl': 'polish', 'pt': 'portuguese', 'pa': 'punjabi', 'ro': 'romanian', 'ru': 'russian', 'sm': 'samoan', 'gd': 'scots gaelic', 'sr': 'serbian', 'st': 'sesotho', 'sn': 'shona', 'sd': 'sindhi', 'si': 'sinhala', 'sk': 'slovak', 'sl': 'slovenian', 'so': 'somali', 'es': 'spanish', 'su': 'sundanese', 'sw': 'swahili', 'sv': 'swedish', 'tg': 'tajik', 'ta': 'tamil', 'te': 'telugu', 'th': 'thai', 'tr': 'turkish', 'uk': 'ukrainian', 'ur': 'urdu', 'ug': 'uyghur', 'uz': 'uzbek', 'vi': 'vietnamese', 'cy': 'welsh', 'xh': 'xhosa', 'yi': 'yiddish', 'yo': 'yoruba', 'zu': 'zulu'}\n"
          ]
        }
      ]
    },
    {
      "cell_type": "code",
      "source": [
        "translated.text"
      ],
      "metadata": {
        "colab": {
          "base_uri": "https://localhost:8080/",
          "height": 36
        },
        "id": "jKafXoeGI7qg",
        "outputId": "4c5128d3-0da8-4513-b5ea-5150a9fd7c9d"
      },
      "execution_count": 5,
      "outputs": [
        {
          "output_type": "execute_result",
          "data": {
            "text/plain": [
              "'Alright'"
            ],
            "application/vnd.google.colaboratory.intrinsic+json": {
              "type": "string"
            }
          },
          "metadata": {},
          "execution_count": 5
        }
      ]
    },
    {
      "cell_type": "code",
      "source": [
        "translated_es = translator.translate(text='Hello',dest='hi')\n",
        "translated_es.text"
      ],
      "metadata": {
        "colab": {
          "base_uri": "https://localhost:8080/",
          "height": 36
        },
        "id": "SDYaJmvwJe_K",
        "outputId": "c2d0f25e-b75d-4299-89c1-228e6a44c64f"
      },
      "execution_count": 6,
      "outputs": [
        {
          "output_type": "execute_result",
          "data": {
            "text/plain": [
              "'नमस्ते'"
            ],
            "application/vnd.google.colaboratory.intrinsic+json": {
              "type": "string"
            }
          },
          "metadata": {},
          "execution_count": 6
        }
      ]
    },
    {
      "cell_type": "code",
      "source": [
        "translated_it = translator.translate(text='My God',dest='it')\n",
        "translated_it.text"
      ],
      "metadata": {
        "colab": {
          "base_uri": "https://localhost:8080/",
          "height": 36
        },
        "id": "69A0qKl0J9R9",
        "outputId": "29ae2c92-a40d-44e1-a3ce-e06419189f46"
      },
      "execution_count": 7,
      "outputs": [
        {
          "output_type": "execute_result",
          "data": {
            "text/plain": [
              "'Mio Dio'"
            ],
            "application/vnd.google.colaboratory.intrinsic+json": {
              "type": "string"
            }
          },
          "metadata": {},
          "execution_count": 7
        }
      ]
    },
    {
      "cell_type": "code",
      "source": [
        "print(translator.detect('Hola papa'))"
      ],
      "metadata": {
        "colab": {
          "base_uri": "https://localhost:8080/"
        },
        "id": "6SG5rWpDOFt-",
        "outputId": "63be5dda-7bcd-481d-eabd-0ae1a8f28ea1"
      },
      "execution_count": 8,
      "outputs": [
        {
          "output_type": "stream",
          "name": "stdout",
          "text": [
            "Detected(lang=es, confidence=0.74019945)\n"
          ]
        }
      ]
    },
    {
      "cell_type": "code",
      "source": [
        "! pip install kaggle"
      ],
      "metadata": {
        "colab": {
          "base_uri": "https://localhost:8080/"
        },
        "id": "o-jwaXu3OWra",
        "outputId": "1427c14b-0514-4a63-ee28-aeb51445f98a"
      },
      "execution_count": 9,
      "outputs": [
        {
          "output_type": "stream",
          "name": "stdout",
          "text": [
            "Requirement already satisfied: kaggle in /usr/local/lib/python3.10/dist-packages (1.6.17)\n",
            "Requirement already satisfied: six>=1.10 in /usr/local/lib/python3.10/dist-packages (from kaggle) (1.17.0)\n",
            "Requirement already satisfied: certifi>=2023.7.22 in /usr/local/lib/python3.10/dist-packages (from kaggle) (2024.12.14)\n",
            "Requirement already satisfied: python-dateutil in /usr/local/lib/python3.10/dist-packages (from kaggle) (2.8.2)\n",
            "Requirement already satisfied: requests in /usr/local/lib/python3.10/dist-packages (from kaggle) (2.32.3)\n",
            "Requirement already satisfied: tqdm in /usr/local/lib/python3.10/dist-packages (from kaggle) (4.67.1)\n",
            "Requirement already satisfied: python-slugify in /usr/local/lib/python3.10/dist-packages (from kaggle) (8.0.4)\n",
            "Requirement already satisfied: urllib3 in /usr/local/lib/python3.10/dist-packages (from kaggle) (2.2.3)\n",
            "Requirement already satisfied: bleach in /usr/local/lib/python3.10/dist-packages (from kaggle) (6.2.0)\n",
            "Requirement already satisfied: webencodings in /usr/local/lib/python3.10/dist-packages (from bleach->kaggle) (0.5.1)\n",
            "Requirement already satisfied: text-unidecode>=1.3 in /usr/local/lib/python3.10/dist-packages (from python-slugify->kaggle) (1.3)\n",
            "Requirement already satisfied: charset-normalizer<4,>=2 in /usr/local/lib/python3.10/dist-packages (from requests->kaggle) (3.4.0)\n",
            "Requirement already satisfied: idna<4,>=2.5 in /usr/local/lib/python3.10/dist-packages (from requests->kaggle) (2.10)\n"
          ]
        }
      ]
    },
    {
      "cell_type": "code",
      "source": [
        "from google.colab import files\n",
        "files.upload()"
      ],
      "metadata": {
        "colab": {
          "base_uri": "https://localhost:8080/",
          "height": 110
        },
        "id": "MwHOr2c2LTQS",
        "outputId": "79ccfb02-5671-430a-b637-52546a887938"
      },
      "execution_count": 10,
      "outputs": [
        {
          "output_type": "display_data",
          "data": {
            "text/plain": [
              "<IPython.core.display.HTML object>"
            ],
            "text/html": [
              "\n",
              "     <input type=\"file\" id=\"files-ff647767-c248-4014-a4a6-62457a901156\" name=\"files[]\" multiple disabled\n",
              "        style=\"border:none\" />\n",
              "     <output id=\"result-ff647767-c248-4014-a4a6-62457a901156\">\n",
              "      Upload widget is only available when the cell has been executed in the\n",
              "      current browser session. Please rerun this cell to enable.\n",
              "      </output>\n",
              "      <script>// Copyright 2017 Google LLC\n",
              "//\n",
              "// Licensed under the Apache License, Version 2.0 (the \"License\");\n",
              "// you may not use this file except in compliance with the License.\n",
              "// You may obtain a copy of the License at\n",
              "//\n",
              "//      http://www.apache.org/licenses/LICENSE-2.0\n",
              "//\n",
              "// Unless required by applicable law or agreed to in writing, software\n",
              "// distributed under the License is distributed on an \"AS IS\" BASIS,\n",
              "// WITHOUT WARRANTIES OR CONDITIONS OF ANY KIND, either express or implied.\n",
              "// See the License for the specific language governing permissions and\n",
              "// limitations under the License.\n",
              "\n",
              "/**\n",
              " * @fileoverview Helpers for google.colab Python module.\n",
              " */\n",
              "(function(scope) {\n",
              "function span(text, styleAttributes = {}) {\n",
              "  const element = document.createElement('span');\n",
              "  element.textContent = text;\n",
              "  for (const key of Object.keys(styleAttributes)) {\n",
              "    element.style[key] = styleAttributes[key];\n",
              "  }\n",
              "  return element;\n",
              "}\n",
              "\n",
              "// Max number of bytes which will be uploaded at a time.\n",
              "const MAX_PAYLOAD_SIZE = 100 * 1024;\n",
              "\n",
              "function _uploadFiles(inputId, outputId) {\n",
              "  const steps = uploadFilesStep(inputId, outputId);\n",
              "  const outputElement = document.getElementById(outputId);\n",
              "  // Cache steps on the outputElement to make it available for the next call\n",
              "  // to uploadFilesContinue from Python.\n",
              "  outputElement.steps = steps;\n",
              "\n",
              "  return _uploadFilesContinue(outputId);\n",
              "}\n",
              "\n",
              "// This is roughly an async generator (not supported in the browser yet),\n",
              "// where there are multiple asynchronous steps and the Python side is going\n",
              "// to poll for completion of each step.\n",
              "// This uses a Promise to block the python side on completion of each step,\n",
              "// then passes the result of the previous step as the input to the next step.\n",
              "function _uploadFilesContinue(outputId) {\n",
              "  const outputElement = document.getElementById(outputId);\n",
              "  const steps = outputElement.steps;\n",
              "\n",
              "  const next = steps.next(outputElement.lastPromiseValue);\n",
              "  return Promise.resolve(next.value.promise).then((value) => {\n",
              "    // Cache the last promise value to make it available to the next\n",
              "    // step of the generator.\n",
              "    outputElement.lastPromiseValue = value;\n",
              "    return next.value.response;\n",
              "  });\n",
              "}\n",
              "\n",
              "/**\n",
              " * Generator function which is called between each async step of the upload\n",
              " * process.\n",
              " * @param {string} inputId Element ID of the input file picker element.\n",
              " * @param {string} outputId Element ID of the output display.\n",
              " * @return {!Iterable<!Object>} Iterable of next steps.\n",
              " */\n",
              "function* uploadFilesStep(inputId, outputId) {\n",
              "  const inputElement = document.getElementById(inputId);\n",
              "  inputElement.disabled = false;\n",
              "\n",
              "  const outputElement = document.getElementById(outputId);\n",
              "  outputElement.innerHTML = '';\n",
              "\n",
              "  const pickedPromise = new Promise((resolve) => {\n",
              "    inputElement.addEventListener('change', (e) => {\n",
              "      resolve(e.target.files);\n",
              "    });\n",
              "  });\n",
              "\n",
              "  const cancel = document.createElement('button');\n",
              "  inputElement.parentElement.appendChild(cancel);\n",
              "  cancel.textContent = 'Cancel upload';\n",
              "  const cancelPromise = new Promise((resolve) => {\n",
              "    cancel.onclick = () => {\n",
              "      resolve(null);\n",
              "    };\n",
              "  });\n",
              "\n",
              "  // Wait for the user to pick the files.\n",
              "  const files = yield {\n",
              "    promise: Promise.race([pickedPromise, cancelPromise]),\n",
              "    response: {\n",
              "      action: 'starting',\n",
              "    }\n",
              "  };\n",
              "\n",
              "  cancel.remove();\n",
              "\n",
              "  // Disable the input element since further picks are not allowed.\n",
              "  inputElement.disabled = true;\n",
              "\n",
              "  if (!files) {\n",
              "    return {\n",
              "      response: {\n",
              "        action: 'complete',\n",
              "      }\n",
              "    };\n",
              "  }\n",
              "\n",
              "  for (const file of files) {\n",
              "    const li = document.createElement('li');\n",
              "    li.append(span(file.name, {fontWeight: 'bold'}));\n",
              "    li.append(span(\n",
              "        `(${file.type || 'n/a'}) - ${file.size} bytes, ` +\n",
              "        `last modified: ${\n",
              "            file.lastModifiedDate ? file.lastModifiedDate.toLocaleDateString() :\n",
              "                                    'n/a'} - `));\n",
              "    const percent = span('0% done');\n",
              "    li.appendChild(percent);\n",
              "\n",
              "    outputElement.appendChild(li);\n",
              "\n",
              "    const fileDataPromise = new Promise((resolve) => {\n",
              "      const reader = new FileReader();\n",
              "      reader.onload = (e) => {\n",
              "        resolve(e.target.result);\n",
              "      };\n",
              "      reader.readAsArrayBuffer(file);\n",
              "    });\n",
              "    // Wait for the data to be ready.\n",
              "    let fileData = yield {\n",
              "      promise: fileDataPromise,\n",
              "      response: {\n",
              "        action: 'continue',\n",
              "      }\n",
              "    };\n",
              "\n",
              "    // Use a chunked sending to avoid message size limits. See b/62115660.\n",
              "    let position = 0;\n",
              "    do {\n",
              "      const length = Math.min(fileData.byteLength - position, MAX_PAYLOAD_SIZE);\n",
              "      const chunk = new Uint8Array(fileData, position, length);\n",
              "      position += length;\n",
              "\n",
              "      const base64 = btoa(String.fromCharCode.apply(null, chunk));\n",
              "      yield {\n",
              "        response: {\n",
              "          action: 'append',\n",
              "          file: file.name,\n",
              "          data: base64,\n",
              "        },\n",
              "      };\n",
              "\n",
              "      let percentDone = fileData.byteLength === 0 ?\n",
              "          100 :\n",
              "          Math.round((position / fileData.byteLength) * 100);\n",
              "      percent.textContent = `${percentDone}% done`;\n",
              "\n",
              "    } while (position < fileData.byteLength);\n",
              "  }\n",
              "\n",
              "  // All done.\n",
              "  yield {\n",
              "    response: {\n",
              "      action: 'complete',\n",
              "    }\n",
              "  };\n",
              "}\n",
              "\n",
              "scope.google = scope.google || {};\n",
              "scope.google.colab = scope.google.colab || {};\n",
              "scope.google.colab._files = {\n",
              "  _uploadFiles,\n",
              "  _uploadFilesContinue,\n",
              "};\n",
              "})(self);\n",
              "</script> "
            ]
          },
          "metadata": {}
        },
        {
          "output_type": "stream",
          "name": "stdout",
          "text": [
            "Saving kaggle (1).json to kaggle (1).json\n"
          ]
        },
        {
          "output_type": "execute_result",
          "data": {
            "text/plain": [
              "{'kaggle (1).json': b'{\"username\":\"abhikbangera\",\"key\":\"827fea19160561ad42d50eae0d59b5fa\"}'}"
            ]
          },
          "metadata": {},
          "execution_count": 10
        }
      ]
    },
    {
      "cell_type": "code",
      "source": [
        "! mkdir -p ~/.kaggle"
      ],
      "metadata": {
        "id": "Q2elDWIDLdo4"
      },
      "execution_count": 18,
      "outputs": []
    },
    {
      "cell_type": "code",
      "source": [
        "!cp kaggle.json ~/.kaggle/"
      ],
      "metadata": {
        "colab": {
          "base_uri": "https://localhost:8080/"
        },
        "id": "EUNpoD_BLoQf",
        "outputId": "e3a39ae9-a0c9-442c-952c-62a0c816b119"
      },
      "execution_count": 20,
      "outputs": [
        {
          "output_type": "stream",
          "name": "stdout",
          "text": [
            "cp: cannot stat 'kaggle.json': No such file or directory\n"
          ]
        }
      ]
    },
    {
      "cell_type": "code",
      "source": [
        "!chmod 600 ~/.kaggle/kaggle.json"
      ],
      "metadata": {
        "colab": {
          "base_uri": "https://localhost:8080/"
        },
        "id": "eg-aqbqjL4V5",
        "outputId": "d9fd002c-386d-41c4-d6f1-e4de1f6eebd8"
      },
      "execution_count": 21,
      "outputs": [
        {
          "output_type": "stream",
          "name": "stdout",
          "text": [
            "chmod: cannot access '/root/.kaggle/kaggle.json': No such file or directory\n"
          ]
        }
      ]
    },
    {
      "cell_type": "code",
      "source": [
        "! kaggle datasets list"
      ],
      "metadata": {
        "colab": {
          "base_uri": "https://localhost:8080/"
        },
        "id": "rbHQjHT9MgLg",
        "outputId": "394e39eb-517f-43f7-80e9-73e585429c97"
      },
      "execution_count": 23,
      "outputs": [
        {
          "output_type": "stream",
          "name": "stdout",
          "text": [
            "Traceback (most recent call last):\n",
            "  File \"/usr/local/bin/kaggle\", line 5, in <module>\n",
            "    from kaggle.cli import main\n",
            "  File \"/usr/local/lib/python3.10/dist-packages/kaggle/__init__.py\", line 7, in <module>\n",
            "    api.authenticate()\n",
            "  File \"/usr/local/lib/python3.10/dist-packages/kaggle/api/kaggle_api_extended.py\", line 407, in authenticate\n",
            "    raise IOError('Could not find {}. Make sure it\\'s located in'\n",
            "OSError: Could not find kaggle.json. Make sure it's located in /root/.kaggle. Or use the environment method. See setup instructions at https://github.com/Kaggle/kaggle-api/\n"
          ]
        }
      ]
    },
    {
      "cell_type": "code",
      "source": [
        "!kaggle datasets download -d fedesoriano/spanish-wine-quality-dataset"
      ],
      "metadata": {
        "colab": {
          "base_uri": "https://localhost:8080/"
        },
        "id": "JPn_RHiXNZtr",
        "outputId": "ad985911-040b-45f8-eb68-0f27e7aa809e"
      },
      "execution_count": 24,
      "outputs": [
        {
          "output_type": "stream",
          "name": "stdout",
          "text": [
            "Dataset URL: https://www.kaggle.com/datasets/fedesoriano/spanish-wine-quality-dataset\n",
            "License(s): copyright-authors\n",
            "Downloading spanish-wine-quality-dataset.zip to /content\n",
            "  0% 0.00/46.4k [00:00<?, ?B/s]\n",
            "100% 46.4k/46.4k [00:00<00:00, 70.3MB/s]\n"
          ]
        }
      ]
    },
    {
      "cell_type": "code",
      "source": [
        "from zipfile import ZipFile\n",
        "dataset = '/content/spanish-wine-quality-dataset.zip'\n",
        "\n",
        "with ZipFile(dataset,'r') as zip:\n",
        "  zip.extractall()\n",
        "  print('The dataset is extracted')"
      ],
      "metadata": {
        "colab": {
          "base_uri": "https://localhost:8080/"
        },
        "id": "mI9lw23YNqtY",
        "outputId": "77052d78-ac59-4b41-ecd1-1eba3ab49ee6"
      },
      "execution_count": 25,
      "outputs": [
        {
          "output_type": "stream",
          "name": "stdout",
          "text": [
            "The dataset is extracted\n"
          ]
        }
      ]
    },
    {
      "cell_type": "code",
      "source": [
        "import pandas as pd\n",
        "data = pd.read_csv('/content/wines_SPA.csv')"
      ],
      "metadata": {
        "id": "ZyuXnJ18N3LT"
      },
      "execution_count": 26,
      "outputs": []
    },
    {
      "cell_type": "code",
      "source": [
        "data.head()"
      ],
      "metadata": {
        "colab": {
          "base_uri": "https://localhost:8080/",
          "height": 399
        },
        "id": "UsDjfNUGOBKo",
        "outputId": "2b44cdd3-a7d1-4376-87bf-9526950a554b"
      },
      "execution_count": 27,
      "outputs": [
        {
          "output_type": "execute_result",
          "data": {
            "text/plain": [
              "          winery           wine  year  rating  num_reviews country  \\\n",
              "0  Teso La Monja          Tinto  2013     4.9           58  Espana   \n",
              "1         Artadi  Vina El Pison  2018     4.9           31  Espana   \n",
              "2   Vega Sicilia          Unico  2009     4.8         1793  Espana   \n",
              "3   Vega Sicilia          Unico  1999     4.8         1705  Espana   \n",
              "4   Vega Sicilia          Unico  1996     4.8         1309  Espana   \n",
              "\n",
              "             region   price                  type  body  acidity  \n",
              "0              Toro  995.00              Toro Red   5.0      3.0  \n",
              "1    Vino de Espana  313.50           Tempranillo   4.0      2.0  \n",
              "2  Ribera del Duero  324.95  Ribera Del Duero Red   5.0      3.0  \n",
              "3  Ribera del Duero  692.96  Ribera Del Duero Red   5.0      3.0  \n",
              "4  Ribera del Duero  778.06  Ribera Del Duero Red   5.0      3.0  "
            ],
            "text/html": [
              "\n",
              "  <div id=\"df-fb457f16-e7be-4f3d-b1fc-09d6ed42a84f\" class=\"colab-df-container\">\n",
              "    <div>\n",
              "<style scoped>\n",
              "    .dataframe tbody tr th:only-of-type {\n",
              "        vertical-align: middle;\n",
              "    }\n",
              "\n",
              "    .dataframe tbody tr th {\n",
              "        vertical-align: top;\n",
              "    }\n",
              "\n",
              "    .dataframe thead th {\n",
              "        text-align: right;\n",
              "    }\n",
              "</style>\n",
              "<table border=\"1\" class=\"dataframe\">\n",
              "  <thead>\n",
              "    <tr style=\"text-align: right;\">\n",
              "      <th></th>\n",
              "      <th>winery</th>\n",
              "      <th>wine</th>\n",
              "      <th>year</th>\n",
              "      <th>rating</th>\n",
              "      <th>num_reviews</th>\n",
              "      <th>country</th>\n",
              "      <th>region</th>\n",
              "      <th>price</th>\n",
              "      <th>type</th>\n",
              "      <th>body</th>\n",
              "      <th>acidity</th>\n",
              "    </tr>\n",
              "  </thead>\n",
              "  <tbody>\n",
              "    <tr>\n",
              "      <th>0</th>\n",
              "      <td>Teso La Monja</td>\n",
              "      <td>Tinto</td>\n",
              "      <td>2013</td>\n",
              "      <td>4.9</td>\n",
              "      <td>58</td>\n",
              "      <td>Espana</td>\n",
              "      <td>Toro</td>\n",
              "      <td>995.00</td>\n",
              "      <td>Toro Red</td>\n",
              "      <td>5.0</td>\n",
              "      <td>3.0</td>\n",
              "    </tr>\n",
              "    <tr>\n",
              "      <th>1</th>\n",
              "      <td>Artadi</td>\n",
              "      <td>Vina El Pison</td>\n",
              "      <td>2018</td>\n",
              "      <td>4.9</td>\n",
              "      <td>31</td>\n",
              "      <td>Espana</td>\n",
              "      <td>Vino de Espana</td>\n",
              "      <td>313.50</td>\n",
              "      <td>Tempranillo</td>\n",
              "      <td>4.0</td>\n",
              "      <td>2.0</td>\n",
              "    </tr>\n",
              "    <tr>\n",
              "      <th>2</th>\n",
              "      <td>Vega Sicilia</td>\n",
              "      <td>Unico</td>\n",
              "      <td>2009</td>\n",
              "      <td>4.8</td>\n",
              "      <td>1793</td>\n",
              "      <td>Espana</td>\n",
              "      <td>Ribera del Duero</td>\n",
              "      <td>324.95</td>\n",
              "      <td>Ribera Del Duero Red</td>\n",
              "      <td>5.0</td>\n",
              "      <td>3.0</td>\n",
              "    </tr>\n",
              "    <tr>\n",
              "      <th>3</th>\n",
              "      <td>Vega Sicilia</td>\n",
              "      <td>Unico</td>\n",
              "      <td>1999</td>\n",
              "      <td>4.8</td>\n",
              "      <td>1705</td>\n",
              "      <td>Espana</td>\n",
              "      <td>Ribera del Duero</td>\n",
              "      <td>692.96</td>\n",
              "      <td>Ribera Del Duero Red</td>\n",
              "      <td>5.0</td>\n",
              "      <td>3.0</td>\n",
              "    </tr>\n",
              "    <tr>\n",
              "      <th>4</th>\n",
              "      <td>Vega Sicilia</td>\n",
              "      <td>Unico</td>\n",
              "      <td>1996</td>\n",
              "      <td>4.8</td>\n",
              "      <td>1309</td>\n",
              "      <td>Espana</td>\n",
              "      <td>Ribera del Duero</td>\n",
              "      <td>778.06</td>\n",
              "      <td>Ribera Del Duero Red</td>\n",
              "      <td>5.0</td>\n",
              "      <td>3.0</td>\n",
              "    </tr>\n",
              "  </tbody>\n",
              "</table>\n",
              "</div>\n",
              "    <div class=\"colab-df-buttons\">\n",
              "\n",
              "  <div class=\"colab-df-container\">\n",
              "    <button class=\"colab-df-convert\" onclick=\"convertToInteractive('df-fb457f16-e7be-4f3d-b1fc-09d6ed42a84f')\"\n",
              "            title=\"Convert this dataframe to an interactive table.\"\n",
              "            style=\"display:none;\">\n",
              "\n",
              "  <svg xmlns=\"http://www.w3.org/2000/svg\" height=\"24px\" viewBox=\"0 -960 960 960\">\n",
              "    <path d=\"M120-120v-720h720v720H120Zm60-500h600v-160H180v160Zm220 220h160v-160H400v160Zm0 220h160v-160H400v160ZM180-400h160v-160H180v160Zm440 0h160v-160H620v160ZM180-180h160v-160H180v160Zm440 0h160v-160H620v160Z\"/>\n",
              "  </svg>\n",
              "    </button>\n",
              "\n",
              "  <style>\n",
              "    .colab-df-container {\n",
              "      display:flex;\n",
              "      gap: 12px;\n",
              "    }\n",
              "\n",
              "    .colab-df-convert {\n",
              "      background-color: #E8F0FE;\n",
              "      border: none;\n",
              "      border-radius: 50%;\n",
              "      cursor: pointer;\n",
              "      display: none;\n",
              "      fill: #1967D2;\n",
              "      height: 32px;\n",
              "      padding: 0 0 0 0;\n",
              "      width: 32px;\n",
              "    }\n",
              "\n",
              "    .colab-df-convert:hover {\n",
              "      background-color: #E2EBFA;\n",
              "      box-shadow: 0px 1px 2px rgba(60, 64, 67, 0.3), 0px 1px 3px 1px rgba(60, 64, 67, 0.15);\n",
              "      fill: #174EA6;\n",
              "    }\n",
              "\n",
              "    .colab-df-buttons div {\n",
              "      margin-bottom: 4px;\n",
              "    }\n",
              "\n",
              "    [theme=dark] .colab-df-convert {\n",
              "      background-color: #3B4455;\n",
              "      fill: #D2E3FC;\n",
              "    }\n",
              "\n",
              "    [theme=dark] .colab-df-convert:hover {\n",
              "      background-color: #434B5C;\n",
              "      box-shadow: 0px 1px 3px 1px rgba(0, 0, 0, 0.15);\n",
              "      filter: drop-shadow(0px 1px 2px rgba(0, 0, 0, 0.3));\n",
              "      fill: #FFFFFF;\n",
              "    }\n",
              "  </style>\n",
              "\n",
              "    <script>\n",
              "      const buttonEl =\n",
              "        document.querySelector('#df-fb457f16-e7be-4f3d-b1fc-09d6ed42a84f button.colab-df-convert');\n",
              "      buttonEl.style.display =\n",
              "        google.colab.kernel.accessAllowed ? 'block' : 'none';\n",
              "\n",
              "      async function convertToInteractive(key) {\n",
              "        const element = document.querySelector('#df-fb457f16-e7be-4f3d-b1fc-09d6ed42a84f');\n",
              "        const dataTable =\n",
              "          await google.colab.kernel.invokeFunction('convertToInteractive',\n",
              "                                                    [key], {});\n",
              "        if (!dataTable) return;\n",
              "\n",
              "        const docLinkHtml = 'Like what you see? Visit the ' +\n",
              "          '<a target=\"_blank\" href=https://colab.research.google.com/notebooks/data_table.ipynb>data table notebook</a>'\n",
              "          + ' to learn more about interactive tables.';\n",
              "        element.innerHTML = '';\n",
              "        dataTable['output_type'] = 'display_data';\n",
              "        await google.colab.output.renderOutput(dataTable, element);\n",
              "        const docLink = document.createElement('div');\n",
              "        docLink.innerHTML = docLinkHtml;\n",
              "        element.appendChild(docLink);\n",
              "      }\n",
              "    </script>\n",
              "  </div>\n",
              "\n",
              "\n",
              "<div id=\"df-a43c0ab5-f465-4391-9ade-41d1b2f440bb\">\n",
              "  <button class=\"colab-df-quickchart\" onclick=\"quickchart('df-a43c0ab5-f465-4391-9ade-41d1b2f440bb')\"\n",
              "            title=\"Suggest charts\"\n",
              "            style=\"display:none;\">\n",
              "\n",
              "<svg xmlns=\"http://www.w3.org/2000/svg\" height=\"24px\"viewBox=\"0 0 24 24\"\n",
              "     width=\"24px\">\n",
              "    <g>\n",
              "        <path d=\"M19 3H5c-1.1 0-2 .9-2 2v14c0 1.1.9 2 2 2h14c1.1 0 2-.9 2-2V5c0-1.1-.9-2-2-2zM9 17H7v-7h2v7zm4 0h-2V7h2v10zm4 0h-2v-4h2v4z\"/>\n",
              "    </g>\n",
              "</svg>\n",
              "  </button>\n",
              "\n",
              "<style>\n",
              "  .colab-df-quickchart {\n",
              "      --bg-color: #E8F0FE;\n",
              "      --fill-color: #1967D2;\n",
              "      --hover-bg-color: #E2EBFA;\n",
              "      --hover-fill-color: #174EA6;\n",
              "      --disabled-fill-color: #AAA;\n",
              "      --disabled-bg-color: #DDD;\n",
              "  }\n",
              "\n",
              "  [theme=dark] .colab-df-quickchart {\n",
              "      --bg-color: #3B4455;\n",
              "      --fill-color: #D2E3FC;\n",
              "      --hover-bg-color: #434B5C;\n",
              "      --hover-fill-color: #FFFFFF;\n",
              "      --disabled-bg-color: #3B4455;\n",
              "      --disabled-fill-color: #666;\n",
              "  }\n",
              "\n",
              "  .colab-df-quickchart {\n",
              "    background-color: var(--bg-color);\n",
              "    border: none;\n",
              "    border-radius: 50%;\n",
              "    cursor: pointer;\n",
              "    display: none;\n",
              "    fill: var(--fill-color);\n",
              "    height: 32px;\n",
              "    padding: 0;\n",
              "    width: 32px;\n",
              "  }\n",
              "\n",
              "  .colab-df-quickchart:hover {\n",
              "    background-color: var(--hover-bg-color);\n",
              "    box-shadow: 0 1px 2px rgba(60, 64, 67, 0.3), 0 1px 3px 1px rgba(60, 64, 67, 0.15);\n",
              "    fill: var(--button-hover-fill-color);\n",
              "  }\n",
              "\n",
              "  .colab-df-quickchart-complete:disabled,\n",
              "  .colab-df-quickchart-complete:disabled:hover {\n",
              "    background-color: var(--disabled-bg-color);\n",
              "    fill: var(--disabled-fill-color);\n",
              "    box-shadow: none;\n",
              "  }\n",
              "\n",
              "  .colab-df-spinner {\n",
              "    border: 2px solid var(--fill-color);\n",
              "    border-color: transparent;\n",
              "    border-bottom-color: var(--fill-color);\n",
              "    animation:\n",
              "      spin 1s steps(1) infinite;\n",
              "  }\n",
              "\n",
              "  @keyframes spin {\n",
              "    0% {\n",
              "      border-color: transparent;\n",
              "      border-bottom-color: var(--fill-color);\n",
              "      border-left-color: var(--fill-color);\n",
              "    }\n",
              "    20% {\n",
              "      border-color: transparent;\n",
              "      border-left-color: var(--fill-color);\n",
              "      border-top-color: var(--fill-color);\n",
              "    }\n",
              "    30% {\n",
              "      border-color: transparent;\n",
              "      border-left-color: var(--fill-color);\n",
              "      border-top-color: var(--fill-color);\n",
              "      border-right-color: var(--fill-color);\n",
              "    }\n",
              "    40% {\n",
              "      border-color: transparent;\n",
              "      border-right-color: var(--fill-color);\n",
              "      border-top-color: var(--fill-color);\n",
              "    }\n",
              "    60% {\n",
              "      border-color: transparent;\n",
              "      border-right-color: var(--fill-color);\n",
              "    }\n",
              "    80% {\n",
              "      border-color: transparent;\n",
              "      border-right-color: var(--fill-color);\n",
              "      border-bottom-color: var(--fill-color);\n",
              "    }\n",
              "    90% {\n",
              "      border-color: transparent;\n",
              "      border-bottom-color: var(--fill-color);\n",
              "    }\n",
              "  }\n",
              "</style>\n",
              "\n",
              "  <script>\n",
              "    async function quickchart(key) {\n",
              "      const quickchartButtonEl =\n",
              "        document.querySelector('#' + key + ' button');\n",
              "      quickchartButtonEl.disabled = true;  // To prevent multiple clicks.\n",
              "      quickchartButtonEl.classList.add('colab-df-spinner');\n",
              "      try {\n",
              "        const charts = await google.colab.kernel.invokeFunction(\n",
              "            'suggestCharts', [key], {});\n",
              "      } catch (error) {\n",
              "        console.error('Error during call to suggestCharts:', error);\n",
              "      }\n",
              "      quickchartButtonEl.classList.remove('colab-df-spinner');\n",
              "      quickchartButtonEl.classList.add('colab-df-quickchart-complete');\n",
              "    }\n",
              "    (() => {\n",
              "      let quickchartButtonEl =\n",
              "        document.querySelector('#df-a43c0ab5-f465-4391-9ade-41d1b2f440bb button');\n",
              "      quickchartButtonEl.style.display =\n",
              "        google.colab.kernel.accessAllowed ? 'block' : 'none';\n",
              "    })();\n",
              "  </script>\n",
              "</div>\n",
              "\n",
              "    </div>\n",
              "  </div>\n"
            ],
            "application/vnd.google.colaboratory.intrinsic+json": {
              "type": "dataframe",
              "variable_name": "data",
              "summary": "{\n  \"name\": \"data\",\n  \"rows\": 7500,\n  \"fields\": [\n    {\n      \"column\": \"winery\",\n      \"properties\": {\n        \"dtype\": \"category\",\n        \"num_unique_values\": 480,\n        \"samples\": [\n          \"Francisco Garcia Perez\",\n          \"Jimenez-Landi\",\n          \"Bodegas Yzaguirre\"\n        ],\n        \"semantic_type\": \"\",\n        \"description\": \"\"\n      }\n    },\n    {\n      \"column\": \"wine\",\n      \"properties\": {\n        \"dtype\": \"category\",\n        \"num_unique_values\": 847,\n        \"samples\": [\n          \"Cava El Tros Nou Pinot Noir\",\n          \"Teixar\",\n          \"Pagos Viejos\"\n        ],\n        \"semantic_type\": \"\",\n        \"description\": \"\"\n      }\n    },\n    {\n      \"column\": \"year\",\n      \"properties\": {\n        \"dtype\": \"category\",\n        \"num_unique_values\": 71,\n        \"samples\": [\n          \"1985\",\n          \"2013\",\n          \"1958\"\n        ],\n        \"semantic_type\": \"\",\n        \"description\": \"\"\n      }\n    },\n    {\n      \"column\": \"rating\",\n      \"properties\": {\n        \"dtype\": \"number\",\n        \"std\": 0.11802903457462274,\n        \"min\": 4.2,\n        \"max\": 4.9,\n        \"num_unique_values\": 8,\n        \"samples\": [\n          4.8,\n          4.4,\n          4.9\n        ],\n        \"semantic_type\": \"\",\n        \"description\": \"\"\n      }\n    },\n    {\n      \"column\": \"num_reviews\",\n      \"properties\": {\n        \"dtype\": \"number\",\n        \"std\": 723,\n        \"min\": 25,\n        \"max\": 32624,\n        \"num_unique_values\": 817,\n        \"samples\": [\n          115,\n          177,\n          2144\n        ],\n        \"semantic_type\": \"\",\n        \"description\": \"\"\n      }\n    },\n    {\n      \"column\": \"country\",\n      \"properties\": {\n        \"dtype\": \"category\",\n        \"num_unique_values\": 1,\n        \"samples\": [\n          \"Espana\"\n        ],\n        \"semantic_type\": \"\",\n        \"description\": \"\"\n      }\n    },\n    {\n      \"column\": \"region\",\n      \"properties\": {\n        \"dtype\": \"category\",\n        \"num_unique_values\": 76,\n        \"samples\": [\n          \"Jumilla\"\n        ],\n        \"semantic_type\": \"\",\n        \"description\": \"\"\n      }\n    },\n    {\n      \"column\": \"price\",\n      \"properties\": {\n        \"dtype\": \"number\",\n        \"std\": 150.3566764526764,\n        \"min\": 4.99,\n        \"max\": 3119.08,\n        \"num_unique_values\": 1292,\n        \"samples\": [\n          168.0\n        ],\n        \"semantic_type\": \"\",\n        \"description\": \"\"\n      }\n    },\n    {\n      \"column\": \"type\",\n      \"properties\": {\n        \"dtype\": \"category\",\n        \"num_unique_values\": 21,\n        \"samples\": [\n          \"Toro Red\"\n        ],\n        \"semantic_type\": \"\",\n        \"description\": \"\"\n      }\n    },\n    {\n      \"column\": \"body\",\n      \"properties\": {\n        \"dtype\": \"number\",\n        \"std\": 0.5833522358684048,\n        \"min\": 2.0,\n        \"max\": 5.0,\n        \"num_unique_values\": 4,\n        \"samples\": [\n          4.0\n        ],\n        \"semantic_type\": \"\",\n        \"description\": \"\"\n      }\n    },\n    {\n      \"column\": \"acidity\",\n      \"properties\": {\n        \"dtype\": \"number\",\n        \"std\": 0.2482020101241982,\n        \"min\": 1.0,\n        \"max\": 3.0,\n        \"num_unique_values\": 3,\n        \"samples\": [\n          3.0\n        ],\n        \"semantic_type\": \"\",\n        \"description\": \"\"\n      }\n    }\n  ]\n}"
            }
          },
          "metadata": {},
          "execution_count": 27
        }
      ]
    },
    {
      "cell_type": "code",
      "source": [
        "translations = {}\n",
        "from tqdm.auto import tqdm\n",
        "unique_elements = data[\"winery\"].unique()\n",
        "for element in tqdm(unique_elements):\n",
        "  translations[element] = translator.translate(element).text\n",
        "\n",
        "print(translations)"
      ],
      "metadata": {
        "colab": {
          "base_uri": "https://localhost:8080/",
          "height": 87,
          "referenced_widgets": [
            "b3c5e477e5ea4888a36216f009d01c09",
            "4bc3a008b68249eb8ac45628ebc82dff",
            "3131fbb169904d50a7931206b7763fd5",
            "649a02b6e9a146f798ac1179b2c1fa1a",
            "88cf1543171b4ebeb90cd0652999796b",
            "a63bc3f31ae94dac8a218a1d12d2d996",
            "477459a7d461482b807cbbc4c413e7c6",
            "3d602b7e24c6483385306dfdd85f0d53",
            "632b2982eb4148899e05ea3ef5d12dac",
            "b372ee1f4fcc4ab487e55ef2524b2036",
            "9d167a32d9954174b4042729a7601e40"
          ]
        },
        "id": "SFLzcCZJOEzN",
        "outputId": "ca79abe8-f852-4827-9fd7-6833354438dc"
      },
      "execution_count": 28,
      "outputs": [
        {
          "output_type": "display_data",
          "data": {
            "text/plain": [
              "  0%|          | 0/480 [00:00<?, ?it/s]"
            ],
            "application/vnd.jupyter.widget-view+json": {
              "version_major": 2,
              "version_minor": 0,
              "model_id": "b3c5e477e5ea4888a36216f009d01c09"
            }
          },
          "metadata": {}
        },
        {
          "output_type": "stream",
          "name": "stdout",
          "text": [
            "{'Teso La Monja': 'Teso La Monja', 'Artadi': 'Artadi', 'Vega Sicilia': 'Vega Sicily', 'Pago de Carraovejas': 'Carraovejas payment', 'Toro Albala': 'Albala Bull', 'Bodegas El Nido': 'El Nido Wineries', 'Valdespino': 'Valdespino', 'Dominio de Pingus': 'Dominion de Pingus', 'Alvaro Palacios': 'Alvaro Palacios', 'Ordonez': 'Ordonez', 'Bodegas Valduero': 'Valduero Wineries', 'Vina Sastre': 'Vina Sastre', 'Sierra Cantabria': 'Sierra Cantabria', 'Descendientes de J. Palacios': 'Descendants of J. Palacios', 'La Rioja Alta': 'La Rioja Alta', 'Marques de Murrieta': 'Marquis of Murrieta', 'Vinedos de Paganos': 'Pagan Vineyards', 'Emilio Moro': 'Emilio Moro', 'Quinta de la Quietud': 'Quinta de la Quietud', 'Bodegas Mauro': 'Mauro Wineries', 'Bodega Contador (Benjamin Romeo)': 'Contador Winery (Benjamin Romeo)', 'Remirez de Ganuza': 'Remirez de Ganuza', 'Bodegas San Roman': 'San Roman Wineries', 'Pago de Los Capellanes': 'Payment of Chaplains', 'Bodega Numanthia': 'Pastor Numantia', 'Alto Moncayo': 'Alto Moncayo', 'Mas Doix': 'But Doix', 'Finca Moncloa': 'Moncloa Estate', 'Bodegas Roda': 'Roda Wineries', 'Martinet': 'Swift', 'Recaredo': 'Recaredo', 'Clos Erasmus': 'Clos Erasmus', 'Barbadillo': 'Barbadillo', 'Gonzalez-Byass': 'Gonzalez-Byass', 'Bodegas Amaren': 'Amaren Wineries', 'Alvear': 'Alvear', 'Equipo Navazos': 'Navazos Team', 'Morca': 'Morca', 'Territorio Luthier': 'Luthier Territory', 'Rafael Palacios': 'Rafael Palacios', 'Terra Remota': 'Remote Land', 'Dehesa de Los Canonigos': 'Dehesa de Los Canonigos', 'Miguel Merino': 'Miguel Merino', 'Gutierrez de la Vega': 'Gutierrez de la Vega', 'Alion': 'another', 'Aalto': 'Aalto', 'Carmelo Rodero': 'Carmelo Rodero', 'Dominio del Bendito': 'Domain of the Blessed', \"Mas d'en Gil\": \"Gil's house\", 'Casa Castillo': 'Castle House', 'Matarromera': 'Matarromera', 'Nin-Ortiz': 'Nin-Ortiz', 'Vinas del Vero': 'Vinas del Vero', 'Marques de Riscal': 'Riscal brands', 'Arzuaga': 'Arzuaga', 'Bodegas Mas Alta': 'Higher Wineries', 'Dominio de Calogia': 'Calogia Domain', 'Tomas Postigo': 'Thomas Postigo', 'Cal Pla': 'Pla horse', 'Ossian': 'Ossian', 'Cepa 21': 'Cepa 21', 'Bodegas Vilano': 'Vilano Wineries', 'Allende': 'Allende', 'Costers del Siurana': 'Coasts of the Siurana', 'Hacienda Monasterio': 'Monastery Hacienda', 'Castillo Perelada': 'Perelada Castle', 'Osborne': 'Osborne', 'Ysios': 'Ysios', 'Marques de Grinon': 'Grinon marks', 'Contino': 'Continue', 'Gramona': 'Gramona', 'Dominio del Aguila': 'Eagle Domain', 'Hacienda Solano': 'Hacienda Solano', 'Francisco Garcia Perez': 'Francisco Garcia Perez', 'Anima Negra': 'Black Anima', 'Castano': 'Brown', 'La Legua': 'The League', 'Castillo de Cuzcurrita': 'Cuzcurrita Castle', 'Oxer Wines': 'Oxer Wines', 'Bodegas Yuste': 'Yuste Wineries', 'Bodegas 6o Elemento - Vino Sexto Elemento': 'Bodegas 6o Elemento - Sixth Element Wine', 'Proyecto Garnachas de Espana': 'Spanish Grenache Project', 'Casal de Arman': \"Arman's couple\", 'Vall Llach': 'Llach Valley', 'Pago de Larrainzar': 'Larrainzar Payment', 'Ukan Winery': 'Ukan Winery', 'Vina Real': \"Real's fault\", 'Dominio de Atauta': 'Dominio de Atauta', 'Micro Bio (MicroBio)': 'Micro Bio (MicroBio)', 'Terroir Al Limit Soc. Lda': 'Terroir At The Limit Soc. Lda', 'Finca Torremilanos': 'Torremilanos Estate', 'Huerta de Albala': 'Albala Garden', 'Gomez Cruzado': 'Gomez Cruzado', \"Castell d'Encus\": \"Castell d'Encus\", 'Abadia Retuerta': 'Abadia Retuerta', 'Enate': 'annette', 'Benjamin de Rothschild - Vega Sicilia': 'Benjamin de Rothschild - Vega Sicilia', 'Bodegas Aragonesas': 'Aragonese Wineries', 'Telmo Rodriguez': 'Telmo Rodriguez', 'Acustic Celler': 'Acoustic Celler', 'Vina Pedrosa': 'Vina Pedrosa', 'Pintia': 'pints', 'Belondrade': 'Rewarded', 'Muga': 'The limit', 'Clos Mogador': 'Clos Mogador', 'Bodegas Tradicion': 'Tradition Wineries', 'Senorio de San Vicente': 'Senorio de San Vicente', 'Francisco Barona': 'Francisco Barona', 'Juan Gil': 'Juan Gil', 'Lan': 'Lan', 'R. Lopez de Heredia': 'R. Lopez de Heredia', 'Adama Wines': 'Adama Wines', 'Milsetentayseis': 'Milsetentayseis', 'Espectacle del Montsant': 'Montsant show', 'Tinto Pesquera': 'Red Pesquera', 'Ferrer Bobet': 'Ferrer Bobet', 'Familia Torres': 'Torres Family', 'Pazo Barrantes': 'Pazo Barrantes', 'Tio Pepe': 'Tio Pepe', 'Cruz de Alba': 'Cross of Alba', 'Emilio Rojo': 'Emilio Rojo', 'Dominio de Es': 'Domain of Es', 'Jesus Madrazo': 'Jesus Madrazo', 'Bodegas Naluar & Acediano': 'Naluar & Acedian Wineries', 'Marques de Caceres': 'Caceres Brands', 'Trus': 'Trus', 'Mestres': 'Masters', 'Chivite': 'Chivite', 'Bodega Ribas': 'Ribas Winery', 'Vinas del Cenit': 'Vinas del Cenith', 'Mas del Serral': 'More from Serral', 'Cervoles': 'Deer', 'Diez Merito': 'Ten Merit', 'Marques de Burgos': 'Marks of Burgos', 'Penafiel': 'Penafiel', 'Tobia': 'Tobit', 'Tresmano - Tr3smano': 'Tresmano - Tr3smano', 'Sei Solo': 'You are alone', 'Finca Villacreces': 'Villacreces Estate', 'Virgen de la Asuncion': 'Virgin of the Assumption', 'Romate': 'Roman', 'Sara Perez y Rene Barbier': 'Sara Perez and Rene Barbier', 'Dehesa del Carrizal': 'Carrizal Dehesa', 'Tarsus': 'Tarsus', 'Beronia': 'Beronia', 'Monte Real': 'Monte Real', 'Divina Proporcion': 'Divine Proportion', 'Vina al Lado de la Casa': 'Vina Next to the House', 'Marques de la Concordia': 'Marks of Concordia', 'Agusti Torello Mata': 'Agusti Torello Mata', 'Dominio de Cair': 'Domain of Cair', 'Valquejigoso': 'Valquejigoso', 'Veigamoura': 'Veigamoura', 'Vizcarra': 'Vizcarra', 'Legaris': 'To be read', 'Federico Paternina': 'Federico Paternina', 'Vinicola Real': 'Vinicola Real', 'Losada': 'slab', \"Clos d'Agon\": \"Clos d'Agon\", 'Sacristia AB': 'Sacristia AB', 'Uvaguilera Aguilera': 'Uvaguilera Aguilera', 'Emilio Hidalgo': 'Emilio Hidalgo', 'Altos del Terral': 'Altos del Terral', 'El Regajal': 'The Regajal', 'Valderiz': 'Valderiz', 'Jose Pariente': 'Jose Pariente', 'Amos Baneres': 'Amos Baneres', 'Scala Dei': 'Scala Dei', 'Bodegas Valdelana': 'Valdelana Wineries', 'Abel Mendoza Monge': 'Abel Mendoza Monge', 'Anayon': 'According to', 'Sierra Salinas': 'Sierra Salinas', 'Vinos Sanz': 'Sanz Wines', 'Cerro San Cristobal': 'San Cristobal Hill', 'Altos de Rioja': 'Altos de Rioja', 'Bodegas Celler Francisco Castillo - Clos Dominic': 'Celler Francisco Castillo Wineries - Clos Dominic', 'La Vinya del Vuit': 'The Vine of the Eight', 'Venus la Universal': 'Come the Universal', 'Pedralonga': 'Pedralonga', 'Atalaya': 'Watchtower', 'Matsu': 'Matsu', 'Marques de Vargas': 'Marques de Vargas', 'Volver': 'Return', 'Tridente': 'Trident', 'Ausas': 'Ear', 'Cillar de Silos': 'Cillar of Silos', 'Imperial': 'Imperial', 'Ramos-Paul': 'Ramos-Paul', 'Bodega de Bardos': 'Bards Winery', 'Rodriguez Sanzo': 'Rodriguez Sanzo', 'Antidoto': 'Antidote', 'Bosque de Matasnos': 'Matasnos Forest', 'Altanza': 'Altitude', 'Remelluri': 'Remelluri', 'Perinet': 'Perinet', 'La Vicalanda': 'The Vicalanda', 'Monovar': 'monovar', 'Alvaro Domecq': 'Alvaro Domecq', 'Los Aguilares': 'The Aguilares', 'Bodega Rento': 'Rento Winery', 'Dominio do Bibei': \"Bibei's Domain\", 'Marco Abella': 'Marco Abella', 'Javier Sanz Viticultor': 'Javier Sanz Viticulturist', 'Protos': 'Protea', 'Harveys': \"Harvey's\", 'Orben': 'Orban', 'Jaro': 'Year', 'Bodegas Ximenez-Spinola': 'Ximenez-Spinola Wineries', 'Bodegas El Paraguas': 'El Paraguas Wineries', 'Mustiguillo': 'Mustiguillo', 'Vina Pomal': 'Guilt Slow down', 'Astrales': 'Astral', 'Merum Priorati': 'Mere Priorat', 'Hacienda Lopez de Haro': 'Hacienda Lopez de Haro', 'Cayetano del Pino': 'Cayetano del Pino', 'La Unica': 'The One', 'Pazo Senorans': 'Pazo Senorans', 'Fefinanes': 'Finance', 'Resalte': 'Highlight', 'Figuero': 'Figuero', 'Pinea': 'Pinea', 'Portal del Priorat': 'Portal of the Priory', 'Cims de Porrera': 'Peaks of Porrera', 'Casa Rojo': 'Red House', 'Murua': 'Forgive', 'Vinyes Domenech': 'Domenech vineyards', 'Pago de Vallegarcia': 'Vallegarcia Payment', 'Eulogio Pomares': 'Eulogio Pomares', 'Sangenis I Vaque': 'Sangenis I Vaque', 'Delgado Zuleta': 'Delgado Zuleta', 'VALENCISO': 'VALENCIA', 'Mas Perinet': 'But Perinet', 'Luis A. Rodriguez Vazquez': 'Luis A. Rodriguez Vazquez', 'Chozas Carrascal': 'Carrascal Huts', 'Alonso del Yerro': 'Alonso del Yerro', 'Clos Figueras': 'Clos Figueras', 'Bodegas Monte La Reina': 'Monte La Reina Wineries', 'Ontanon': 'Alder', 'Alta Alella': 'High Allele', 'Bodega Elias Mora': 'Bodega Elias Mora', 'Joan Simo': 'Joan Simo', 'Can Axartell': 'Can Axartell', 'Juan Pinero': 'John Pinero', 'Mas Llunes': 'But Moons', 'Bodegas Frontaura': 'Frontaura Wineries', 'Roig Parals': 'Roig Parals', 'Avgvstvs': 'Avgvstvs', 'Jorge Ordonez': 'Jorge Ordonez', 'Ramon Bilbao': 'Ramón Bilbao', 'Leda': 'Leda', 'Enric Soler': 'Enrique Soler', 'Es Fangar': \"It's Fangar\", 'Cal Batllet - Celler Ripoll Sans': 'Cal Batllet - Celler Ripoll Sans', 'Llopart': 'lopart', 'Portia': 'Portia', 'Ostatu': 'stay', 'Finca Valpiedra': 'Valpiedra Estate', 'Baigorri': 'Baigorri', 'Vivaltus': 'Vivaltus', 'Comenge': 'it begins', 'Collbaix Celler El Moli': 'Collbaix Celler El Moli', 'Martinez Lacuesta': 'Martinez Lacuesta', 'Pujanza': 'Strength', 'Albet i Noya': 'Albet i Noya', 'Olivier Riviere': 'Olivier Riviere', 'Bodegas Tierra': 'Tierra Wineries', 'Torre de Ona': 'Torre de Ona', 'Do Ferreiro (Bodegas Gerardo Mendez)': 'Do Ferreiro (Bodegas Gerardo Mendez)', 'Martin Codax': 'Martin Codax', 'Vinedos Hermanos Hernaiz': 'Hermanos Hernaiz Vineyards', 'Freixenet': 'ash tree', 'Azpilicueta': 'Azpilicueta', 'Veronica Salgado': 'Veronica Salgado', 'Clos Galena': 'Clos Galena', 'Bodegas Imperiales - Abadia de San Quirce': 'Imperial Cellars - Abadia de San Quirce', 'Marta Mate': 'Martha Mate', 'Venta Las Vacas': 'Cows Sale', 'Pago Calzadilla': 'Calzadilla Payment', 'Vivanco': 'Vivanco', 'Fernandez Gao': 'Fernandez Gao', 'Museum': 'Museum', 'Farina': 'Farina', 'Galindo San Millan': 'Galindo San Millan', 'Bodegas Casa Primicia': 'Casa Primicia Wineries', 'Castell Miquel': 'Michael Castle', 'Barco del Corneta': 'Bugle Ship', \"Joan d'Anguera\": 'John of Anguera', 'Xaloc': 'Xaloc', 'Carlos Moro': 'Carlos Moro', 'Bodegas Luis Perez': 'Luis Perez Wineries', 'Ladairo': 'Ladairo', \"Conreria d'Scala Dei\": 'Cultivation of Scala Dei', 'Traslascuestas': 'Traslascuestas', 'Lopez Cristobal': 'Lopez Cristobal', 'Codorniu': 'quail', 'Sota els Angels': 'Under the Angels', 'Berceo': 'Berceo', 'Mas Blanch I Jove': 'Mas Blanch I Jove', 'Carlos Serres': 'Carlos Serres', 'David Moreno': 'David Moreno', 'Edra': 'Edra', 'Valdelosfrailes': 'Valdelosfrailes', 'Briego': 'Briego', 'Guillem Carol - Cellers Carol Valles': 'Guillem Carol - Cellers Carol Valles', 'Barahonda': 'Barahonda', 'Particular': 'Particular', 'Bodegas Frontonio': 'Frontonio Wineries', 'Bodegas Asenjo & Manso': 'Asenjo & Manso Wineries', 'Luis Canas': 'Luis Canas', 'Garmon': 'Harmon', 'Williams & Humbert': 'Williams & Humbert', 'Condado de Haza': 'Haza County', 'Lustau': 'They were lusting', 'Bodegas Faustino': 'Faustino Wineries', 'St. Petroni': 'St. Petroni', 'Llanos Negros': 'Black Plains', 'Aster': 'Aster', 'Avancia': 'Advance', 'Marques de Tomares': 'Marquis of Tomares', 'Quinta Sardonia': 'Fifth Sardonia', 'Abadal': 'Abadal', 'Hermanos Pecina': 'Pecina Brothers', 'Biniagual': 'Biniagual', 'Breca': 'break', 'Pradorey': 'Pradorey', 'Terras Gauda': 'Gauda Lands', 'Bodega Tesalia': 'Thesalia Winery', 'Pazo de Rubianes': 'Pazo de Rubianes', 'Godeval': 'Godeval', 'Bodegas Olarra': 'Bodegas Olarra', 'Taron': 'The event', 'Sonsierra': 'Sonsierra', 'Vins Miquel Gelabert': 'Miquel Gelabert wines', 'El Grillo y La Luna': 'The Cricket and the Moon', 'De Moya': 'De Moya', 'Campillo': 'Campillo', 'Jean Leon': 'Jean Leon', 'Bodegas Ateca': 'Ateca Wineries', 'Bodega Campo Eliseo': 'Campo Eliseo Winery', 'Fernandez de Pierola': 'Fernandez de Pierola', 'De Muller': 'De Muller', 'Monteabellon': 'Monteabellon', 'Pepe Mendoza Casa Agricola': 'Pepe Mendoza Agricultural House', 'Vinos Guerra': 'War Wines', 'Neo': 'Neo', \"Terra d'Uro\": 'Land of Uro', 'Zarate': 'Zarate', 'Noelia Bebelia': 'Noelia Bebelia', 'Marti Fabra': 'Marti Fabra', 'Palmeri Sicilia': 'Palmeri Sicily', 'Mas Que Vinos': 'More than wines', 'Bodegas Estraunza': 'Estraunza Wineries', 'Pittacum': 'Pittacum', 'Bodega Sommos': 'Bodega Sommos', 'Celler de Capcanes': 'Celler de Capcanes', 'Arinzano': 'Arinzano', 'Pago del Vostal': 'Costal Payment', 'Habla': 'Speaks', 'Rodriguez de Vera': 'Rodríguez de Vera', 'Callejuela': 'Lane', 'El Maestro Sierra': 'Master Sierra', 'Paco & Lola': 'Paco & Lola', 'Valtravieso': 'Valtravieso', 'Costers del Priorat': 'Coasts of the Priorat', 'Bodegas Urium': 'Urium Wineries', 'Bodega Otazu': 'Bodega Otazu', 'Perez Barquero': 'Perez Barquero', 'Oller del Mas': 'Oller del Mas', 'Bodegas Clunia': 'Bodegas Clunia', 'Bodegas Ochoa': 'Ochoa Wineries', \"Ca l'Apotecari\": 'Ca the Apothecary', 'Josep Grau Viticultor': 'Josep Grau Viticultor', 'Fos': 'Fos', 'Hacienda Grimon': 'Hacienda Grimon', 'Capafons-Osso': 'Capafons-Osso', 'Can Rafols dels Caus': 'Dog Rafols of the Caves', 'Raul Perez': 'Raul Perez', 'Dominio de la Vega': 'Dominion of the Vega', 'Juve & Camps': 'Juve & Camps', 'Mas de les Pereres': 'Mas de les Pereres', 'Guilera': 'Guilera', \"l'Infernal Combier Fischer Gerin\": \"l'Infernal Combier Fischer Gerin\", 'Jorge Piernas': 'Jorge Piernas', 'Balandro': 'Baldron', 'M. Antonio de la Riva': 'M. Antonio de la Riva', 'Espelt': 'spelled', 'Bodegas Arfe': 'Bodegas Arfe', 'Real de Asua': 'Royal of Asua', 'Vinyes dels Aspres': 'Vines dels Aspres', 'Valserrano': 'Valserrano', 'Shaya': 'Hit', 'Finca Rio Negro': 'Rio Negro Estate', 'Loxera': 'Loxera', 'Dominio Fournier': 'Dominio Fournier', 'Bodegas Yzaguirre': 'Yzaguirre Wineries', 'Neton': 'Neton', 'Bodega Aida i Luis': 'Aida i Luis Winery', 'Cartoixa de Montsalvat': 'Charterhouse of Montsalvat', 'El Lagar de Isilla': 'The Isilla Winepress', 'Anibal de Otero': 'Anibal de Otero', 'Altos del Enebro': 'Juniper Heights', 'Albamar': 'Albamar', 'Can Bas': 'Can Bas', 'Atlantida': 'Atlantis', 'Atlan & Artisan': 'Atlan & Artisan', 'Olivardots': 'Olivardots', 'Lar de Paula': \"Paula's Home\", 'La Val': 'The Val', 'Tres Piedras': 'Three Stones', 'Javi Revert': 'Javi Revert', 'Lambuena': 'Lambuena', 'Attis': 'Attis', 'San Cobate': 'Saint Cobate', 'Santa Petronila': 'Saint Petronilla', 'Jimenez-Landi': 'Jimenez-Land', 'Hidalgo (La Gitana)': 'Hidalgo (The Gypsy)', 'Gallina de Piel': 'Skin Hen', 'Arid': 'Arid', 'Bodegas Reyes': 'Reyes Wineries', 'Hugas de Batlle': 'Hugas de Batlle', 'Bodegas Arrocal': 'Arrocal Wineries', 'Buil & Gine': 'Outcome & Gene', 'Castell del Remei': 'Remei Castle', 'Valdubon': 'Valdubon', 'Bodegas Y Vinedos Alilian': 'Alilian Wineries and Vineyards', 'Sebio': 'Sebio', 'Goyo Garcia Viadero': 'Goyo Garcia Viadero', 'Santiago Ruiz': 'Santiago Ruiz', 'Mauro Estevez': 'Mauro Estevez', 'Mas Bertran': 'Mr. Bertran', 'Bodegas Gama': 'Gama Wineries', 'Edetaria': 'Written', 'Hacienda Zorita Natural Reserve': 'Hacienda Zorita Natural Reserve', 'Ton Rimbau': 'Tons of Rimbau', 'Can Xanet': 'Can Xanet', 'A Coroa': 'The Crown', 'Alonso & Pedrajo': 'Alonso & Pedrajo', 'Mandia Vell': 'Mandia Vell', 'Bodega Juan Carlos Sancha': 'Juan Carlos Sancha Winery', 'Valdecuevas': 'Valdecuevas', 'Algueira': 'Algueira', 'Mocen': 'The moc', 'Estones': 'You are', 'Bodega Tameran': 'Tameran Winery', 'Inurrieta': 'Ants', 'Flor de Chasna': 'Chasna Flower', 'Lagar de Sabariz': 'Sabariz Winery', 'Naia': 'Naia', 'AGE': 'AGE', 'Navajas': 'Knives', 'Vinyes del Terrer': 'Vines del Terrer', 'Cepas Familiares': 'Familial Strains', 'Dominio de Loalva': 'Loalva Domain', 'Zifar': 'Cipher', 'Bordalas Garcia': 'Bordalas Garcia', 'Rimarts': 'Rimarts', 'Pinna Fidelis': 'Faithful Pinna', 'Loess': 'Loess', 'Dominio de Anza': 'Anza Domain', 'Samsara': 'Samsara', 'Cuentavinas': 'Wine Counter', 'Felix Solis': 'Felix Solis', 'El Coto': 'The Coto', 'Mar de Frades': 'Sea of \\u200b\\u200bFrades', 'Montecastro': 'Montecastro', 'Bodegas La Horra': 'La Horra Wineries', 'Baluarte': 'Bulwark', 'Hispano Suizas': 'Hispanic Swiss', 'Murviedro': 'Murviedro', 'Diez Caballero': 'Ten Knight', 'Vegalfaro': 'Vegalfaro', 'Palacios Remondo': 'Palaces Remondo', 'Fernando de Castilla': 'Ferdinand of Castile', 'Bohorquez': 'Bohorquez', 'Adega Familiar Eladio Pineiro': 'Eladio Pineiro Family Winery', 'Culebron': 'soap opera', 'Enrique Mendoza': 'Enrique Mendoza', 'Clos Pons': 'Clos Pons', 'Ramon do Casar': 'Ramon do Casar', 'Binigrau': 'Binigrau'}\n"
          ]
        }
      ]
    },
    {
      "cell_type": "code",
      "source": [
        "data[\"translated_winery\"] = data[\"winery\"].map(translations)"
      ],
      "metadata": {
        "id": "AhHiVVQWb942"
      },
      "execution_count": 31,
      "outputs": []
    },
    {
      "cell_type": "code",
      "source": [
        "data.head()"
      ],
      "metadata": {
        "colab": {
          "base_uri": "https://localhost:8080/",
          "height": 399
        },
        "id": "BSCogUtUcJWU",
        "outputId": "7727953c-ddac-4ac2-9042-d1c10ee4ec71"
      },
      "execution_count": 32,
      "outputs": [
        {
          "output_type": "execute_result",
          "data": {
            "text/plain": [
              "          winery           wine  year  rating  num_reviews country  \\\n",
              "0  Teso La Monja          Tinto  2013     4.9           58  Espana   \n",
              "1         Artadi  Vina El Pison  2018     4.9           31  Espana   \n",
              "2   Vega Sicilia          Unico  2009     4.8         1793  Espana   \n",
              "3   Vega Sicilia          Unico  1999     4.8         1705  Espana   \n",
              "4   Vega Sicilia          Unico  1996     4.8         1309  Espana   \n",
              "\n",
              "             region   price                  type  body  acidity  \\\n",
              "0              Toro  995.00              Toro Red   5.0      3.0   \n",
              "1    Vino de Espana  313.50           Tempranillo   4.0      2.0   \n",
              "2  Ribera del Duero  324.95  Ribera Del Duero Red   5.0      3.0   \n",
              "3  Ribera del Duero  692.96  Ribera Del Duero Red   5.0      3.0   \n",
              "4  Ribera del Duero  778.06  Ribera Del Duero Red   5.0      3.0   \n",
              "\n",
              "  translated_region translated_winery  \n",
              "0     Teso La Monja     Teso La Monja  \n",
              "1            Artadi            Artadi  \n",
              "2       Vega Sicily       Vega Sicily  \n",
              "3       Vega Sicily       Vega Sicily  \n",
              "4       Vega Sicily       Vega Sicily  "
            ],
            "text/html": [
              "\n",
              "  <div id=\"df-d8e75aa2-41d3-4595-ba31-2ffe4a517ea5\" class=\"colab-df-container\">\n",
              "    <div>\n",
              "<style scoped>\n",
              "    .dataframe tbody tr th:only-of-type {\n",
              "        vertical-align: middle;\n",
              "    }\n",
              "\n",
              "    .dataframe tbody tr th {\n",
              "        vertical-align: top;\n",
              "    }\n",
              "\n",
              "    .dataframe thead th {\n",
              "        text-align: right;\n",
              "    }\n",
              "</style>\n",
              "<table border=\"1\" class=\"dataframe\">\n",
              "  <thead>\n",
              "    <tr style=\"text-align: right;\">\n",
              "      <th></th>\n",
              "      <th>winery</th>\n",
              "      <th>wine</th>\n",
              "      <th>year</th>\n",
              "      <th>rating</th>\n",
              "      <th>num_reviews</th>\n",
              "      <th>country</th>\n",
              "      <th>region</th>\n",
              "      <th>price</th>\n",
              "      <th>type</th>\n",
              "      <th>body</th>\n",
              "      <th>acidity</th>\n",
              "      <th>translated_region</th>\n",
              "      <th>translated_winery</th>\n",
              "    </tr>\n",
              "  </thead>\n",
              "  <tbody>\n",
              "    <tr>\n",
              "      <th>0</th>\n",
              "      <td>Teso La Monja</td>\n",
              "      <td>Tinto</td>\n",
              "      <td>2013</td>\n",
              "      <td>4.9</td>\n",
              "      <td>58</td>\n",
              "      <td>Espana</td>\n",
              "      <td>Toro</td>\n",
              "      <td>995.00</td>\n",
              "      <td>Toro Red</td>\n",
              "      <td>5.0</td>\n",
              "      <td>3.0</td>\n",
              "      <td>Teso La Monja</td>\n",
              "      <td>Teso La Monja</td>\n",
              "    </tr>\n",
              "    <tr>\n",
              "      <th>1</th>\n",
              "      <td>Artadi</td>\n",
              "      <td>Vina El Pison</td>\n",
              "      <td>2018</td>\n",
              "      <td>4.9</td>\n",
              "      <td>31</td>\n",
              "      <td>Espana</td>\n",
              "      <td>Vino de Espana</td>\n",
              "      <td>313.50</td>\n",
              "      <td>Tempranillo</td>\n",
              "      <td>4.0</td>\n",
              "      <td>2.0</td>\n",
              "      <td>Artadi</td>\n",
              "      <td>Artadi</td>\n",
              "    </tr>\n",
              "    <tr>\n",
              "      <th>2</th>\n",
              "      <td>Vega Sicilia</td>\n",
              "      <td>Unico</td>\n",
              "      <td>2009</td>\n",
              "      <td>4.8</td>\n",
              "      <td>1793</td>\n",
              "      <td>Espana</td>\n",
              "      <td>Ribera del Duero</td>\n",
              "      <td>324.95</td>\n",
              "      <td>Ribera Del Duero Red</td>\n",
              "      <td>5.0</td>\n",
              "      <td>3.0</td>\n",
              "      <td>Vega Sicily</td>\n",
              "      <td>Vega Sicily</td>\n",
              "    </tr>\n",
              "    <tr>\n",
              "      <th>3</th>\n",
              "      <td>Vega Sicilia</td>\n",
              "      <td>Unico</td>\n",
              "      <td>1999</td>\n",
              "      <td>4.8</td>\n",
              "      <td>1705</td>\n",
              "      <td>Espana</td>\n",
              "      <td>Ribera del Duero</td>\n",
              "      <td>692.96</td>\n",
              "      <td>Ribera Del Duero Red</td>\n",
              "      <td>5.0</td>\n",
              "      <td>3.0</td>\n",
              "      <td>Vega Sicily</td>\n",
              "      <td>Vega Sicily</td>\n",
              "    </tr>\n",
              "    <tr>\n",
              "      <th>4</th>\n",
              "      <td>Vega Sicilia</td>\n",
              "      <td>Unico</td>\n",
              "      <td>1996</td>\n",
              "      <td>4.8</td>\n",
              "      <td>1309</td>\n",
              "      <td>Espana</td>\n",
              "      <td>Ribera del Duero</td>\n",
              "      <td>778.06</td>\n",
              "      <td>Ribera Del Duero Red</td>\n",
              "      <td>5.0</td>\n",
              "      <td>3.0</td>\n",
              "      <td>Vega Sicily</td>\n",
              "      <td>Vega Sicily</td>\n",
              "    </tr>\n",
              "  </tbody>\n",
              "</table>\n",
              "</div>\n",
              "    <div class=\"colab-df-buttons\">\n",
              "\n",
              "  <div class=\"colab-df-container\">\n",
              "    <button class=\"colab-df-convert\" onclick=\"convertToInteractive('df-d8e75aa2-41d3-4595-ba31-2ffe4a517ea5')\"\n",
              "            title=\"Convert this dataframe to an interactive table.\"\n",
              "            style=\"display:none;\">\n",
              "\n",
              "  <svg xmlns=\"http://www.w3.org/2000/svg\" height=\"24px\" viewBox=\"0 -960 960 960\">\n",
              "    <path d=\"M120-120v-720h720v720H120Zm60-500h600v-160H180v160Zm220 220h160v-160H400v160Zm0 220h160v-160H400v160ZM180-400h160v-160H180v160Zm440 0h160v-160H620v160ZM180-180h160v-160H180v160Zm440 0h160v-160H620v160Z\"/>\n",
              "  </svg>\n",
              "    </button>\n",
              "\n",
              "  <style>\n",
              "    .colab-df-container {\n",
              "      display:flex;\n",
              "      gap: 12px;\n",
              "    }\n",
              "\n",
              "    .colab-df-convert {\n",
              "      background-color: #E8F0FE;\n",
              "      border: none;\n",
              "      border-radius: 50%;\n",
              "      cursor: pointer;\n",
              "      display: none;\n",
              "      fill: #1967D2;\n",
              "      height: 32px;\n",
              "      padding: 0 0 0 0;\n",
              "      width: 32px;\n",
              "    }\n",
              "\n",
              "    .colab-df-convert:hover {\n",
              "      background-color: #E2EBFA;\n",
              "      box-shadow: 0px 1px 2px rgba(60, 64, 67, 0.3), 0px 1px 3px 1px rgba(60, 64, 67, 0.15);\n",
              "      fill: #174EA6;\n",
              "    }\n",
              "\n",
              "    .colab-df-buttons div {\n",
              "      margin-bottom: 4px;\n",
              "    }\n",
              "\n",
              "    [theme=dark] .colab-df-convert {\n",
              "      background-color: #3B4455;\n",
              "      fill: #D2E3FC;\n",
              "    }\n",
              "\n",
              "    [theme=dark] .colab-df-convert:hover {\n",
              "      background-color: #434B5C;\n",
              "      box-shadow: 0px 1px 3px 1px rgba(0, 0, 0, 0.15);\n",
              "      filter: drop-shadow(0px 1px 2px rgba(0, 0, 0, 0.3));\n",
              "      fill: #FFFFFF;\n",
              "    }\n",
              "  </style>\n",
              "\n",
              "    <script>\n",
              "      const buttonEl =\n",
              "        document.querySelector('#df-d8e75aa2-41d3-4595-ba31-2ffe4a517ea5 button.colab-df-convert');\n",
              "      buttonEl.style.display =\n",
              "        google.colab.kernel.accessAllowed ? 'block' : 'none';\n",
              "\n",
              "      async function convertToInteractive(key) {\n",
              "        const element = document.querySelector('#df-d8e75aa2-41d3-4595-ba31-2ffe4a517ea5');\n",
              "        const dataTable =\n",
              "          await google.colab.kernel.invokeFunction('convertToInteractive',\n",
              "                                                    [key], {});\n",
              "        if (!dataTable) return;\n",
              "\n",
              "        const docLinkHtml = 'Like what you see? Visit the ' +\n",
              "          '<a target=\"_blank\" href=https://colab.research.google.com/notebooks/data_table.ipynb>data table notebook</a>'\n",
              "          + ' to learn more about interactive tables.';\n",
              "        element.innerHTML = '';\n",
              "        dataTable['output_type'] = 'display_data';\n",
              "        await google.colab.output.renderOutput(dataTable, element);\n",
              "        const docLink = document.createElement('div');\n",
              "        docLink.innerHTML = docLinkHtml;\n",
              "        element.appendChild(docLink);\n",
              "      }\n",
              "    </script>\n",
              "  </div>\n",
              "\n",
              "\n",
              "<div id=\"df-8a3aebba-9844-4e82-8a74-fc67fb5e5b18\">\n",
              "  <button class=\"colab-df-quickchart\" onclick=\"quickchart('df-8a3aebba-9844-4e82-8a74-fc67fb5e5b18')\"\n",
              "            title=\"Suggest charts\"\n",
              "            style=\"display:none;\">\n",
              "\n",
              "<svg xmlns=\"http://www.w3.org/2000/svg\" height=\"24px\"viewBox=\"0 0 24 24\"\n",
              "     width=\"24px\">\n",
              "    <g>\n",
              "        <path d=\"M19 3H5c-1.1 0-2 .9-2 2v14c0 1.1.9 2 2 2h14c1.1 0 2-.9 2-2V5c0-1.1-.9-2-2-2zM9 17H7v-7h2v7zm4 0h-2V7h2v10zm4 0h-2v-4h2v4z\"/>\n",
              "    </g>\n",
              "</svg>\n",
              "  </button>\n",
              "\n",
              "<style>\n",
              "  .colab-df-quickchart {\n",
              "      --bg-color: #E8F0FE;\n",
              "      --fill-color: #1967D2;\n",
              "      --hover-bg-color: #E2EBFA;\n",
              "      --hover-fill-color: #174EA6;\n",
              "      --disabled-fill-color: #AAA;\n",
              "      --disabled-bg-color: #DDD;\n",
              "  }\n",
              "\n",
              "  [theme=dark] .colab-df-quickchart {\n",
              "      --bg-color: #3B4455;\n",
              "      --fill-color: #D2E3FC;\n",
              "      --hover-bg-color: #434B5C;\n",
              "      --hover-fill-color: #FFFFFF;\n",
              "      --disabled-bg-color: #3B4455;\n",
              "      --disabled-fill-color: #666;\n",
              "  }\n",
              "\n",
              "  .colab-df-quickchart {\n",
              "    background-color: var(--bg-color);\n",
              "    border: none;\n",
              "    border-radius: 50%;\n",
              "    cursor: pointer;\n",
              "    display: none;\n",
              "    fill: var(--fill-color);\n",
              "    height: 32px;\n",
              "    padding: 0;\n",
              "    width: 32px;\n",
              "  }\n",
              "\n",
              "  .colab-df-quickchart:hover {\n",
              "    background-color: var(--hover-bg-color);\n",
              "    box-shadow: 0 1px 2px rgba(60, 64, 67, 0.3), 0 1px 3px 1px rgba(60, 64, 67, 0.15);\n",
              "    fill: var(--button-hover-fill-color);\n",
              "  }\n",
              "\n",
              "  .colab-df-quickchart-complete:disabled,\n",
              "  .colab-df-quickchart-complete:disabled:hover {\n",
              "    background-color: var(--disabled-bg-color);\n",
              "    fill: var(--disabled-fill-color);\n",
              "    box-shadow: none;\n",
              "  }\n",
              "\n",
              "  .colab-df-spinner {\n",
              "    border: 2px solid var(--fill-color);\n",
              "    border-color: transparent;\n",
              "    border-bottom-color: var(--fill-color);\n",
              "    animation:\n",
              "      spin 1s steps(1) infinite;\n",
              "  }\n",
              "\n",
              "  @keyframes spin {\n",
              "    0% {\n",
              "      border-color: transparent;\n",
              "      border-bottom-color: var(--fill-color);\n",
              "      border-left-color: var(--fill-color);\n",
              "    }\n",
              "    20% {\n",
              "      border-color: transparent;\n",
              "      border-left-color: var(--fill-color);\n",
              "      border-top-color: var(--fill-color);\n",
              "    }\n",
              "    30% {\n",
              "      border-color: transparent;\n",
              "      border-left-color: var(--fill-color);\n",
              "      border-top-color: var(--fill-color);\n",
              "      border-right-color: var(--fill-color);\n",
              "    }\n",
              "    40% {\n",
              "      border-color: transparent;\n",
              "      border-right-color: var(--fill-color);\n",
              "      border-top-color: var(--fill-color);\n",
              "    }\n",
              "    60% {\n",
              "      border-color: transparent;\n",
              "      border-right-color: var(--fill-color);\n",
              "    }\n",
              "    80% {\n",
              "      border-color: transparent;\n",
              "      border-right-color: var(--fill-color);\n",
              "      border-bottom-color: var(--fill-color);\n",
              "    }\n",
              "    90% {\n",
              "      border-color: transparent;\n",
              "      border-bottom-color: var(--fill-color);\n",
              "    }\n",
              "  }\n",
              "</style>\n",
              "\n",
              "  <script>\n",
              "    async function quickchart(key) {\n",
              "      const quickchartButtonEl =\n",
              "        document.querySelector('#' + key + ' button');\n",
              "      quickchartButtonEl.disabled = true;  // To prevent multiple clicks.\n",
              "      quickchartButtonEl.classList.add('colab-df-spinner');\n",
              "      try {\n",
              "        const charts = await google.colab.kernel.invokeFunction(\n",
              "            'suggestCharts', [key], {});\n",
              "      } catch (error) {\n",
              "        console.error('Error during call to suggestCharts:', error);\n",
              "      }\n",
              "      quickchartButtonEl.classList.remove('colab-df-spinner');\n",
              "      quickchartButtonEl.classList.add('colab-df-quickchart-complete');\n",
              "    }\n",
              "    (() => {\n",
              "      let quickchartButtonEl =\n",
              "        document.querySelector('#df-8a3aebba-9844-4e82-8a74-fc67fb5e5b18 button');\n",
              "      quickchartButtonEl.style.display =\n",
              "        google.colab.kernel.accessAllowed ? 'block' : 'none';\n",
              "    })();\n",
              "  </script>\n",
              "</div>\n",
              "\n",
              "    </div>\n",
              "  </div>\n"
            ],
            "application/vnd.google.colaboratory.intrinsic+json": {
              "type": "dataframe",
              "variable_name": "data",
              "summary": "{\n  \"name\": \"data\",\n  \"rows\": 7500,\n  \"fields\": [\n    {\n      \"column\": \"winery\",\n      \"properties\": {\n        \"dtype\": \"category\",\n        \"num_unique_values\": 480,\n        \"samples\": [\n          \"Francisco Garcia Perez\",\n          \"Jimenez-Landi\",\n          \"Bodegas Yzaguirre\"\n        ],\n        \"semantic_type\": \"\",\n        \"description\": \"\"\n      }\n    },\n    {\n      \"column\": \"wine\",\n      \"properties\": {\n        \"dtype\": \"category\",\n        \"num_unique_values\": 847,\n        \"samples\": [\n          \"Cava El Tros Nou Pinot Noir\",\n          \"Teixar\",\n          \"Pagos Viejos\"\n        ],\n        \"semantic_type\": \"\",\n        \"description\": \"\"\n      }\n    },\n    {\n      \"column\": \"year\",\n      \"properties\": {\n        \"dtype\": \"category\",\n        \"num_unique_values\": 71,\n        \"samples\": [\n          \"1985\",\n          \"2013\",\n          \"1958\"\n        ],\n        \"semantic_type\": \"\",\n        \"description\": \"\"\n      }\n    },\n    {\n      \"column\": \"rating\",\n      \"properties\": {\n        \"dtype\": \"number\",\n        \"std\": 0.11802903457462274,\n        \"min\": 4.2,\n        \"max\": 4.9,\n        \"num_unique_values\": 8,\n        \"samples\": [\n          4.8,\n          4.4,\n          4.9\n        ],\n        \"semantic_type\": \"\",\n        \"description\": \"\"\n      }\n    },\n    {\n      \"column\": \"num_reviews\",\n      \"properties\": {\n        \"dtype\": \"number\",\n        \"std\": 723,\n        \"min\": 25,\n        \"max\": 32624,\n        \"num_unique_values\": 817,\n        \"samples\": [\n          115,\n          177,\n          2144\n        ],\n        \"semantic_type\": \"\",\n        \"description\": \"\"\n      }\n    },\n    {\n      \"column\": \"country\",\n      \"properties\": {\n        \"dtype\": \"category\",\n        \"num_unique_values\": 1,\n        \"samples\": [\n          \"Espana\"\n        ],\n        \"semantic_type\": \"\",\n        \"description\": \"\"\n      }\n    },\n    {\n      \"column\": \"region\",\n      \"properties\": {\n        \"dtype\": \"category\",\n        \"num_unique_values\": 76,\n        \"samples\": [\n          \"Jumilla\"\n        ],\n        \"semantic_type\": \"\",\n        \"description\": \"\"\n      }\n    },\n    {\n      \"column\": \"price\",\n      \"properties\": {\n        \"dtype\": \"number\",\n        \"std\": 150.3566764526764,\n        \"min\": 4.99,\n        \"max\": 3119.08,\n        \"num_unique_values\": 1292,\n        \"samples\": [\n          168.0\n        ],\n        \"semantic_type\": \"\",\n        \"description\": \"\"\n      }\n    },\n    {\n      \"column\": \"type\",\n      \"properties\": {\n        \"dtype\": \"category\",\n        \"num_unique_values\": 21,\n        \"samples\": [\n          \"Toro Red\"\n        ],\n        \"semantic_type\": \"\",\n        \"description\": \"\"\n      }\n    },\n    {\n      \"column\": \"body\",\n      \"properties\": {\n        \"dtype\": \"number\",\n        \"std\": 0.5833522358684048,\n        \"min\": 2.0,\n        \"max\": 5.0,\n        \"num_unique_values\": 4,\n        \"samples\": [\n          4.0\n        ],\n        \"semantic_type\": \"\",\n        \"description\": \"\"\n      }\n    },\n    {\n      \"column\": \"acidity\",\n      \"properties\": {\n        \"dtype\": \"number\",\n        \"std\": 0.2482020101241982,\n        \"min\": 1.0,\n        \"max\": 3.0,\n        \"num_unique_values\": 3,\n        \"samples\": [\n          3.0\n        ],\n        \"semantic_type\": \"\",\n        \"description\": \"\"\n      }\n    },\n    {\n      \"column\": \"translated_region\",\n      \"properties\": {\n        \"dtype\": \"category\",\n        \"num_unique_values\": 480,\n        \"samples\": [\n          \"Francisco Garcia Perez\"\n        ],\n        \"semantic_type\": \"\",\n        \"description\": \"\"\n      }\n    },\n    {\n      \"column\": \"translated_winery\",\n      \"properties\": {\n        \"dtype\": \"category\",\n        \"num_unique_values\": 480,\n        \"samples\": [\n          \"Francisco Garcia Perez\"\n        ],\n        \"semantic_type\": \"\",\n        \"description\": \"\"\n      }\n    }\n  ]\n}"
            }
          },
          "metadata": {},
          "execution_count": 32
        }
      ]
    }
  ]
}
